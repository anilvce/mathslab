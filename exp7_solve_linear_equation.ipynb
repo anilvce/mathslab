{
  "nbformat": 4,
  "nbformat_minor": 0,
  "metadata": {
    "colab": {
      "name": "exp7- solve linear equation.ipynb",
      "provenance": [],
      "collapsed_sections": [],
      "authorship_tag": "ABX9TyNw2dKPM3zVPPz4pPu2f0Kz",
      "include_colab_link": true
    },
    "kernelspec": {
      "name": "python3",
      "display_name": "Python 3"
    },
    "language_info": {
      "name": "python"
    }
  },
  "cells": [
    {
      "cell_type": "markdown",
      "metadata": {
        "id": "view-in-github",
        "colab_type": "text"
      },
      "source": [
        "<a href=\"https://colab.research.google.com/github/anilvce/mathslab/blob/main/exp7_solve_linear_equation.ipynb\" target=\"_parent\"><img src=\"https://colab.research.google.com/assets/colab-badge.svg\" alt=\"Open In Colab\"/></a>"
      ]
    },
    {
      "cell_type": "code",
      "execution_count": null,
      "metadata": {
        "colab": {
          "base_uri": "https://localhost:8080/"
        },
        "id": "2YvaaAEYNtQm",
        "outputId": "0f8bbb12-69ef-4509-ca52-235f25e95eb8"
      },
      "outputs": [
        {
          "output_type": "stream",
          "name": "stdout",
          "text": [
            "[-3.  4.]\n",
            "[5. 7.]\n"
          ]
        }
      ],
      "source": [
        "#x+2y = 5 3x+4y = 7 Ax = b\n",
        "#x = Ainv.dot(b)\n",
        "import numpy as np\n",
        "from scipy import linalg\n",
        "\n",
        "A= np.array([[1,2], [3,4]])\n",
        "b= np.array([5,7])\n",
        "x= linalg.inv(A).dot(b)\n",
        "print(x)\n",
        "print(A.dot(x))"
      ]
    },
    {
      "cell_type": "code",
      "source": [
        "print(np.isclose(A.dot(x),b))\n",
        "print(np.allclose(A.dot(x),b))"
      ],
      "metadata": {
        "colab": {
          "base_uri": "https://localhost:8080/"
        },
        "id": "HIZIQ_1qULbs",
        "outputId": "b642214d-32a4-4669-ccb2-5f27dba656d5"
      },
      "execution_count": null,
      "outputs": [
        {
          "output_type": "stream",
          "name": "stdout",
          "text": [
            "[ True  True]\n",
            "True\n"
          ]
        }
      ]
    },
    {
      "cell_type": "code",
      "source": [
        "linalg.solve(A, b)"
      ],
      "metadata": {
        "colab": {
          "base_uri": "https://localhost:8080/"
        },
        "id": "rWCy2f1OORUG",
        "outputId": "2696b5c8-8c0b-4562-bca3-bb4201b1b4c5"
      },
      "execution_count": null,
      "outputs": [
        {
          "output_type": "execute_result",
          "data": {
            "text/plain": [
              "array([-3.,  4.])"
            ]
          },
          "metadata": {},
          "execution_count": 46
        }
      ]
    },
    {
      "cell_type": "code",
      "source": [
        "m = 4; n=2\n",
        "A = np.random.randint(100, size=(m,n))\n",
        "b = np.random.randint(100, size=(m,1))\n",
        "print(\"A=\\n{}\".format(A))\n",
        "print(\"b=\\n{}\".format(b))\n",
        "#linalg.solve(A,b)"
      ],
      "metadata": {
        "colab": {
          "base_uri": "https://localhost:8080/"
        },
        "id": "N31gkLIgOf_9",
        "outputId": "ce7630ac-151d-4549-a993-f0ce586e0243"
      },
      "execution_count": null,
      "outputs": [
        {
          "output_type": "stream",
          "name": "stdout",
          "text": [
            "A=\n",
            "[[15 34]\n",
            " [17 12]\n",
            " [31 52]\n",
            " [40 55]]\n",
            "b=\n",
            "[[57]\n",
            " [72]\n",
            " [84]\n",
            " [44]]\n"
          ]
        }
      ]
    },
    {
      "cell_type": "code",
      "source": [
        "#linalg.solve(A, b) - does not work\n",
        "Ainv = linalg.pinv(A)\n",
        "x = Ainv.dot(b)\n",
        "print(x)\n",
        "print(\" A.dot(x)-b\")\n",
        "print(A.dot(x) - b)\n",
        "if(A.dot(x)==b).all():\n",
        "  print(\"WE got the solutions\")\n",
        "else:\n",
        "  print(\"Solutions not found\")"
      ],
      "metadata": {
        "colab": {
          "base_uri": "https://localhost:8080/"
        },
        "id": "5BjHCCX7OqqG",
        "outputId": "773ddb7a-dff3-4c44-ef85-b8a83fdac49c"
      },
      "execution_count": null,
      "outputs": [
        {
          "output_type": "stream",
          "name": "stdout",
          "text": [
            "[[1.66755969]\n",
            " [0.29059964]]\n",
            " A.dot(x)-b\n",
            "[[-22.106217  ]\n",
            " [-40.16428965]\n",
            " [-17.19446852]\n",
            " [ 38.68536758]]\n",
            "Solutions not found\n"
          ]
        }
      ]
    },
    {
      "cell_type": "code",
      "source": [
        "np.allclose(A.dot(x) ,b)"
      ],
      "metadata": {
        "colab": {
          "base_uri": "https://localhost:8080/"
        },
        "id": "A17Srd_WUnnp",
        "outputId": "f5b5c147-1261-4e4f-daba-f27ec8620957"
      },
      "execution_count": null,
      "outputs": [
        {
          "output_type": "execute_result",
          "data": {
            "text/plain": [
              "False"
            ]
          },
          "metadata": {},
          "execution_count": 49
        }
      ]
    },
    {
      "cell_type": "code",
      "source": [
        "import numpy as np\n",
        "import matplotlib.pyplot as plt\n",
        "\n",
        "# x co-ordinates\n",
        "x = np.arange(0, 9)\n",
        "\n",
        "A = np.array([x, np.ones(9)])\n",
        "print(\"x=\",x)\n",
        "print(\"A=\",A)\n",
        "# linearly generated sequence\n",
        "y = [19, 20, 20.5, 21.5, 22, 23, 23, 25.5, 24]\n",
        "\n",
        "# obtaining the parameters of regression line\n",
        "w = np.linalg.lstsq(A.T, y, rcond=None)[0]\n",
        "print(w)\n",
        "\n"
      ],
      "metadata": {
        "colab": {
          "base_uri": "https://localhost:8080/"
        },
        "id": "FTyqhkwT0I96",
        "outputId": "1f448011-47ee-4a85-e507-a3a90099ec87"
      },
      "execution_count": null,
      "outputs": [
        {
          "output_type": "stream",
          "name": "stdout",
          "text": [
            "x= [0 1 2 3 4 5 6 7 8]\n",
            "A= [[0. 1. 2. 3. 4. 5. 6. 7. 8.]\n",
            " [1. 1. 1. 1. 1. 1. 1. 1. 1.]]\n",
            "[ 0.71666667 19.18888889]\n"
          ]
        }
      ]
    },
    {
      "cell_type": "code",
      "source": [
        "print(A.T@w)\n",
        "import matplotlib.pyplot as plt\n",
        "plt.plot(x,A.T@w,'r-')\n",
        "plt.plot(x,y,'*')\n",
        "plt.show()\n"
      ],
      "metadata": {
        "colab": {
          "base_uri": "https://localhost:8080/",
          "height": 300
        },
        "id": "8j4qEoIt2QDQ",
        "outputId": "9402b18c-f977-4810-f415-d99a5002dd0e"
      },
      "execution_count": null,
      "outputs": [
        {
          "output_type": "stream",
          "name": "stdout",
          "text": [
            "[19.18888889 19.90555556 20.62222222 21.33888889 22.05555556 22.77222222\n",
            " 23.48888889 24.20555556 24.92222222]\n"
          ]
        },
        {
          "output_type": "display_data",
          "data": {
            "text/plain": [
              "<Figure size 432x288 with 1 Axes>"
            ],
            "image/png": "[encoded data removed]"
          },
          "metadata": {
            "needs_background": "light"
          }
        }
      ]
    },
    {
      "cell_type": "code",
      "source": [
        "plt.scatter(x,y)"
      ],
      "metadata": {
        "colab": {
          "base_uri": "https://localhost:8080/",
          "height": 282
        },
        "id": "NwsXYa3m4uGh",
        "outputId": "74e2ec6a-d486-42d1-ba57-b27d0cfd28a6"
      },
      "execution_count": null,
      "outputs": [
        {
          "output_type": "execute_result",
          "data": {
            "text/plain": [
              "<matplotlib.collections.PathCollection at 0x7fc98aedd190>"
            ]
          },
          "metadata": {},
          "execution_count": 52
        },
        {
          "output_type": "display_data",
          "data": {
            "text/plain": [
              "<Figure size 432x288 with 1 Axes>"
            ],
            "image/png": "[encoded data removed]"
          },
          "metadata": {
            "needs_background": "light"
          }
        }
      ]
    },
    {
      "cell_type": "code",
      "source": [
        "\n",
        "from scipy.optimize import fsolve\n",
        "def func(x):\n",
        "  return 2*(x-3)**2+1\n",
        "fsolve(func,0)"
      ],
      "metadata": {
        "colab": {
          "base_uri": "https://localhost:8080/"
        },
        "id": "mc0vdXnD9QDv",
        "outputId": "eaaa9f3d-ae46-40de-e344-747fa2bf8519"
      },
      "execution_count": null,
      "outputs": [
        {
          "output_type": "stream",
          "name": "stderr",
          "text": [
            "/usr/local/lib/python3.7/dist-packages/scipy/optimize/minpack.py:175: RuntimeWarning: The iteration is not making good progress, as measured by the \n",
            "  improvement from the last ten iterations.\n",
            "  warnings.warn(msg, RuntimeWarning)\n"
          ]
        },
        {
          "output_type": "execute_result",
          "data": {
            "text/plain": [
              "array([3.00002462])"
            ]
          },
          "metadata": {},
          "execution_count": 53
        }
      ]
    },
    {
      "cell_type": "code",
      "source": [
        "func(3)"
      ],
      "metadata": {
        "colab": {
          "base_uri": "https://localhost:8080/"
        },
        "id": "IVluKVoe-Cbp",
        "outputId": "74fb7c10-d822-4a13-d65e-1b7e574d6f5d"
      },
      "execution_count": null,
      "outputs": [
        {
          "output_type": "execute_result",
          "data": {
            "text/plain": [
              "1"
            ]
          },
          "metadata": {},
          "execution_count": 54
        }
      ]
    },
    {
      "cell_type": "code",
      "source": [
        "#Find a solution to the system of equations: \n",
        "#x0*cos(x1) = 4,  \n",
        "#x1*x0 - x1 = 5.\n",
        "from scipy.optimize import fsolve\n",
        "def func(x):\n",
        "   return [x[0] * np.cos(x[1]) - 4,\n",
        "          x[1] * x[0] - x[1] - 5]\n",
        "root=fsolve(func,[1,1]) \n",
        "print(root)\n",
        "np.isclose(func(root), [0.0, 0.0])"
      ],
      "metadata": {
        "colab": {
          "base_uri": "https://localhost:8080/"
        },
        "id": "-w_CscwD_oOQ",
        "outputId": "3f26772e-b14f-4f7d-f810-3b5ef9f5fdf3"
      },
      "execution_count": null,
      "outputs": [
        {
          "output_type": "stream",
          "name": "stdout",
          "text": [
            "[6.50409711 0.90841421]\n"
          ]
        },
        {
          "output_type": "execute_result",
          "data": {
            "text/plain": [
              "array([ True,  True])"
            ]
          },
          "metadata": {},
          "execution_count": 55
        }
      ]
    },
    {
      "cell_type": "code",
      "source": [
        "#Compute the root of the function f (x) = x^3 − 100x^2 − x + 100 using f_solve\n",
        "from scipy.optimize import fsolve\n",
        "f = lambda x: x**3-100*x**2-x+100\n",
        "fsolve(f, [-100, 200])"
      ],
      "metadata": {
        "colab": {
          "base_uri": "https://localhost:8080/"
        },
        "id": "yaEwtJ8lBYrA",
        "outputId": "381e188a-5e93-4c7b-fdd6-0d53d13d33dd"
      },
      "execution_count": null,
      "outputs": [
        {
          "output_type": "execute_result",
          "data": {
            "text/plain": [
              "array([ -1., 100.])"
            ]
          },
          "metadata": {},
          "execution_count": 65
        }
      ]
    },
    {
      "cell_type": "code",
      "source": [
        "#Newton-raphson method\n",
        "def func(x):\n",
        "  return x**3-100*x**2-x+100\n",
        "def funcdev(x):\n",
        "  return 3*x**2-200*x-1\n",
        "\n"
      ],
      "metadata": {
        "id": "zSXpOgDGDP5r"
      },
      "execution_count": null,
      "outputs": []
    },
    {
      "cell_type": "code",
      "source": [
        "x0=2\n",
        "x1=x0-func(x0)/funcdev(x0)\n",
        "print(x1)"
      ],
      "metadata": {
        "colab": {
          "base_uri": "https://localhost:8080/"
        },
        "id": "pQn0UceQIHeB",
        "outputId": "bef99193-f683-45a1-f9b0-c6d19ed817c1"
      },
      "execution_count": null,
      "outputs": [
        {
          "output_type": "stream",
          "name": "stdout",
          "text": [
            "1.2442159383033418\n"
          ]
        }
      ]
    },
    {
      "cell_type": "code",
      "source": [
        "x1=x1-func(x1)/funcdev(x1)\n",
        "print(x1)\n"
      ],
      "metadata": {
        "colab": {
          "base_uri": "https://localhost:8080/"
        },
        "id": "YL6QylyeIppt",
        "outputId": "d7f72522-a2ba-480b-a68e-581070c64ece"
      },
      "execution_count": null,
      "outputs": [
        {
          "output_type": "stream",
          "name": "stdout",
          "text": [
            "1.0234751698113564\n"
          ]
        }
      ]
    },
    {
      "cell_type": "code",
      "source": [
        "\n",
        "#exercises\n",
        "#1. solve the following equation cos(x)=x**3 by using builtin function and without using function\n",
        "#2. solve x**2=2 by using builtin function and without using function\n",
        "#3 find the square and cube root using builtin function and without using function\n",
        "\n"
      ],
      "metadata": {
        "id": "YdghtmvICOJC"
      },
      "execution_count": null,
      "outputs": []
    },
    {
      "cell_type": "code",
      "source": [
        "#3. solve linear system of equation of 3 equations and 2 Unknows\n",
        "#4. solve linear system of equation of 2 equations and 2 Unknows\n",
        "#5. solve linear system of equation of 2 equations and 3 Unknows"
      ],
      "metadata": {
        "id": "l0pwPhSJAqUN"
      },
      "execution_count": null,
      "outputs": []
    }
  ]
}