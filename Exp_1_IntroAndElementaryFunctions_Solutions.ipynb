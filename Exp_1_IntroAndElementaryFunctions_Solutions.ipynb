{
  "cells": [
    {
      "cell_type": "markdown",
      "metadata": {
        "id": "view-in-github",
        "colab_type": "text"
      },
      "source": [
        "<a href=\"https://colab.research.google.com/github/anilvce/mathslab/blob/main/Exp_1_IntroAndElementaryFunctions_Solutions.ipynb\" target=\"_parent\"><img src=\"https://colab.research.google.com/assets/colab-badge.svg\" alt=\"Open In Colab\"/></a>"
      ]
    },
    {
      "cell_type": "markdown",
      "metadata": {
        "id": "WCqlDMYt-Ded"
      },
      "source": [
        "# Python: The Basics\n",
        "https://www.w3schools.com/python/"
      ]
    },
    {
      "cell_type": "code",
      "execution_count": null,
      "metadata": {
        "id": "7KrUzGkI-Det",
        "outputId": "a3783565-89d9-40c6-dca1-fb068897c19f"
      },
      "outputs": [
        {
          "name": "stdout",
          "output_type": "stream",
          "text": [
            "15\n",
            "length=5, width=6, Area=30\n"
          ]
        }
      ],
      "source": [
        "print(5*3)\n",
        "l = 5; b = 6\n",
        "print(\"length={}, width={}, Area={}\".format(l, b, l*b) )"
      ]
    },
    {
      "cell_type": "code",
      "execution_count": null,
      "metadata": {
        "id": "_lei-f7o-De7",
        "outputId": "18039f60-9f81-47f0-d056-f5712cca70ff"
      },
      "outputs": [
        {
          "name": "stdout",
          "output_type": "stream",
          "text": [
            "Area of a circle:78.53981633974483\n",
            "Perimeter of a circle:31.41592653589793\n"
          ]
        }
      ],
      "source": [
        "import math\n",
        "radius = 5.0\n",
        "Area = math.pi *radius ** 2\n",
        "print(\"Area of a circle:{}\".format(Area) )\n",
        "\n",
        "Perimeter = 2 * math.pi *radius \n",
        "print(\"Perimeter of a circle:{}\".format(Perimeter) )"
      ]
    },
    {
      "cell_type": "code",
      "execution_count": null,
      "metadata": {
        "id": "QxxbFIVr-DfC",
        "outputId": "345854e2-6c2e-4985-e000-00367aa1d377"
      },
      "outputs": [
        {
          "name": "stdout",
          "output_type": "stream",
          "text": [
            "1.0\n",
            "10.0\n",
            "False\n",
            "True\n"
          ]
        }
      ],
      "source": [
        "print(math.sin(math.pi / 2))\n",
        "print(math.log(1024, 2))\n",
        "\n",
        "print(0.3 == 3 * 0.1)\n",
        "print(0.3 == 0.3)"
      ]
    },
    {
      "cell_type": "code",
      "execution_count": null,
      "metadata": {
        "id": "fbWWYGne-DfG",
        "outputId": "e79d0f50-de30-4489-fe9f-3b82641ebed0"
      },
      "outputs": [
        {
          "data": {
            "text/plain": [
              "['__doc__',\n",
              " '__loader__',\n",
              " '__name__',\n",
              " '__package__',\n",
              " '__spec__',\n",
              " 'acos',\n",
              " 'acosh',\n",
              " 'asin',\n",
              " 'asinh',\n",
              " 'atan',\n",
              " 'atan2',\n",
              " 'atanh',\n",
              " 'ceil',\n",
              " 'comb',\n",
              " 'copysign',\n",
              " 'cos',\n",
              " 'cosh',\n",
              " 'degrees',\n",
              " 'dist',\n",
              " 'e',\n",
              " 'erf',\n",
              " 'erfc',\n",
              " 'exp',\n",
              " 'expm1',\n",
              " 'fabs',\n",
              " 'factorial',\n",
              " 'floor',\n",
              " 'fmod',\n",
              " 'frexp',\n",
              " 'fsum',\n",
              " 'gamma',\n",
              " 'gcd',\n",
              " 'hypot',\n",
              " 'inf',\n",
              " 'isclose',\n",
              " 'isfinite',\n",
              " 'isinf',\n",
              " 'isnan',\n",
              " 'isqrt',\n",
              " 'lcm',\n",
              " 'ldexp',\n",
              " 'lgamma',\n",
              " 'log',\n",
              " 'log10',\n",
              " 'log1p',\n",
              " 'log2',\n",
              " 'modf',\n",
              " 'nan',\n",
              " 'nextafter',\n",
              " 'perm',\n",
              " 'pi',\n",
              " 'pow',\n",
              " 'prod',\n",
              " 'radians',\n",
              " 'remainder',\n",
              " 'sin',\n",
              " 'sinh',\n",
              " 'sqrt',\n",
              " 'tan',\n",
              " 'tanh',\n",
              " 'tau',\n",
              " 'trunc',\n",
              " 'ulp']"
            ]
          },
          "execution_count": 124,
          "metadata": {},
          "output_type": "execute_result"
        }
      ],
      "source": [
        "dir(math)"
      ]
    },
    {
      "cell_type": "code",
      "execution_count": null,
      "metadata": {
        "id": "hprv6SS--DfI",
        "outputId": "84fdcf48-c2af-4535-a2f0-a16ca200baff"
      },
      "outputs": [
        {
          "name": "stdout",
          "output_type": "stream",
          "text": [
            "Help on built-in module math:\n",
            "\n",
            "NAME\n",
            "    math\n",
            "\n",
            "DESCRIPTION\n",
            "    This module provides access to the mathematical functions\n",
            "    defined by the C standard.\n",
            "\n",
            "FUNCTIONS\n",
            "    acos(x, /)\n",
            "        Return the arc cosine (measured in radians) of x.\n",
            "        \n",
            "        The result is between 0 and pi.\n",
            "    \n",
            "    acosh(x, /)\n",
            "        Return the inverse hyperbolic cosine of x.\n",
            "    \n",
            "    asin(x, /)\n",
            "        Return the arc sine (measured in radians) of x.\n",
            "        \n",
            "        The result is between -pi/2 and pi/2.\n",
            "    \n",
            "    asinh(x, /)\n",
            "        Return the inverse hyperbolic sine of x.\n",
            "    \n",
            "    atan(x, /)\n",
            "        Return the arc tangent (measured in radians) of x.\n",
            "        \n",
            "        The result is between -pi/2 and pi/2.\n",
            "    \n",
            "    atan2(y, x, /)\n",
            "        Return the arc tangent (measured in radians) of y/x.\n",
            "        \n",
            "        Unlike atan(y/x), the signs of both x and y are considered.\n",
            "    \n",
            "    atanh(x, /)\n",
            "        Return the inverse hyperbolic tangent of x.\n",
            "    \n",
            "    ceil(x, /)\n",
            "        Return the ceiling of x as an Integral.\n",
            "        \n",
            "        This is the smallest integer >= x.\n",
            "    \n",
            "    comb(n, k, /)\n",
            "        Number of ways to choose k items from n items without repetition and without order.\n",
            "        \n",
            "        Evaluates to n! / (k! * (n - k)!) when k <= n and evaluates\n",
            "        to zero when k > n.\n",
            "        \n",
            "        Also called the binomial coefficient because it is equivalent\n",
            "        to the coefficient of k-th term in polynomial expansion of the\n",
            "        expression (1 + x)**n.\n",
            "        \n",
            "        Raises TypeError if either of the arguments are not integers.\n",
            "        Raises ValueError if either of the arguments are negative.\n",
            "    \n",
            "    copysign(x, y, /)\n",
            "        Return a float with the magnitude (absolute value) of x but the sign of y.\n",
            "        \n",
            "        On platforms that support signed zeros, copysign(1.0, -0.0)\n",
            "        returns -1.0.\n",
            "    \n",
            "    cos(x, /)\n",
            "        Return the cosine of x (measured in radians).\n",
            "    \n",
            "    cosh(x, /)\n",
            "        Return the hyperbolic cosine of x.\n",
            "    \n",
            "    degrees(x, /)\n",
            "        Convert angle x from radians to degrees.\n",
            "    \n",
            "    dist(p, q, /)\n",
            "        Return the Euclidean distance between two points p and q.\n",
            "        \n",
            "        The points should be specified as sequences (or iterables) of\n",
            "        coordinates.  Both inputs must have the same dimension.\n",
            "        \n",
            "        Roughly equivalent to:\n",
            "            sqrt(sum((px - qx) ** 2.0 for px, qx in zip(p, q)))\n",
            "    \n",
            "    erf(x, /)\n",
            "        Error function at x.\n",
            "    \n",
            "    erfc(x, /)\n",
            "        Complementary error function at x.\n",
            "    \n",
            "    exp(x, /)\n",
            "        Return e raised to the power of x.\n",
            "    \n",
            "    expm1(x, /)\n",
            "        Return exp(x)-1.\n",
            "        \n",
            "        This function avoids the loss of precision involved in the direct evaluation of exp(x)-1 for small x.\n",
            "    \n",
            "    fabs(x, /)\n",
            "        Return the absolute value of the float x.\n",
            "    \n",
            "    factorial(x, /)\n",
            "        Find x!.\n",
            "        \n",
            "        Raise a ValueError if x is negative or non-integral.\n",
            "    \n",
            "    floor(x, /)\n",
            "        Return the floor of x as an Integral.\n",
            "        \n",
            "        This is the largest integer <= x.\n",
            "    \n",
            "    fmod(x, y, /)\n",
            "        Return fmod(x, y), according to platform C.\n",
            "        \n",
            "        x % y may differ.\n",
            "    \n",
            "    frexp(x, /)\n",
            "        Return the mantissa and exponent of x, as pair (m, e).\n",
            "        \n",
            "        m is a float and e is an int, such that x = m * 2.**e.\n",
            "        If x is 0, m and e are both 0.  Else 0.5 <= abs(m) < 1.0.\n",
            "    \n",
            "    fsum(seq, /)\n",
            "        Return an accurate floating point sum of values in the iterable seq.\n",
            "        \n",
            "        Assumes IEEE-754 floating point arithmetic.\n",
            "    \n",
            "    gamma(x, /)\n",
            "        Gamma function at x.\n",
            "    \n",
            "    gcd(*integers)\n",
            "        Greatest Common Divisor.\n",
            "    \n",
            "    hypot(...)\n",
            "        hypot(*coordinates) -> value\n",
            "        \n",
            "        Multidimensional Euclidean distance from the origin to a point.\n",
            "        \n",
            "        Roughly equivalent to:\n",
            "            sqrt(sum(x**2 for x in coordinates))\n",
            "        \n",
            "        For a two dimensional point (x, y), gives the hypotenuse\n",
            "        using the Pythagorean theorem:  sqrt(x*x + y*y).\n",
            "        \n",
            "        For example, the hypotenuse of a 3/4/5 right triangle is:\n",
            "        \n",
            "            >>> hypot(3.0, 4.0)\n",
            "            5.0\n",
            "    \n",
            "    isclose(a, b, *, rel_tol=1e-09, abs_tol=0.0)\n",
            "        Determine whether two floating point numbers are close in value.\n",
            "        \n",
            "          rel_tol\n",
            "            maximum difference for being considered \"close\", relative to the\n",
            "            magnitude of the input values\n",
            "          abs_tol\n",
            "            maximum difference for being considered \"close\", regardless of the\n",
            "            magnitude of the input values\n",
            "        \n",
            "        Return True if a is close in value to b, and False otherwise.\n",
            "        \n",
            "        For the values to be considered close, the difference between them\n",
            "        must be smaller than at least one of the tolerances.\n",
            "        \n",
            "        -inf, inf and NaN behave similarly to the IEEE 754 Standard.  That\n",
            "        is, NaN is not close to anything, even itself.  inf and -inf are\n",
            "        only close to themselves.\n",
            "    \n",
            "    isfinite(x, /)\n",
            "        Return True if x is neither an infinity nor a NaN, and False otherwise.\n",
            "    \n",
            "    isinf(x, /)\n",
            "        Return True if x is a positive or negative infinity, and False otherwise.\n",
            "    \n",
            "    isnan(x, /)\n",
            "        Return True if x is a NaN (not a number), and False otherwise.\n",
            "    \n",
            "    isqrt(n, /)\n",
            "        Return the integer part of the square root of the input.\n",
            "    \n",
            "    lcm(*integers)\n",
            "        Least Common Multiple.\n",
            "    \n",
            "    ldexp(x, i, /)\n",
            "        Return x * (2**i).\n",
            "        \n",
            "        This is essentially the inverse of frexp().\n",
            "    \n",
            "    lgamma(x, /)\n",
            "        Natural logarithm of absolute value of Gamma function at x.\n",
            "    \n",
            "    log(...)\n",
            "        log(x, [base=math.e])\n",
            "        Return the logarithm of x to the given base.\n",
            "        \n",
            "        If the base not specified, returns the natural logarithm (base e) of x.\n",
            "    \n",
            "    log10(x, /)\n",
            "        Return the base 10 logarithm of x.\n",
            "    \n",
            "    log1p(x, /)\n",
            "        Return the natural logarithm of 1+x (base e).\n",
            "        \n",
            "        The result is computed in a way which is accurate for x near zero.\n",
            "    \n",
            "    log2(x, /)\n",
            "        Return the base 2 logarithm of x.\n",
            "    \n",
            "    modf(x, /)\n",
            "        Return the fractional and integer parts of x.\n",
            "        \n",
            "        Both results carry the sign of x and are floats.\n",
            "    \n",
            "    nextafter(x, y, /)\n",
            "        Return the next floating-point value after x towards y.\n",
            "    \n",
            "    perm(n, k=None, /)\n",
            "        Number of ways to choose k items from n items without repetition and with order.\n",
            "        \n",
            "        Evaluates to n! / (n - k)! when k <= n and evaluates\n",
            "        to zero when k > n.\n",
            "        \n",
            "        If k is not specified or is None, then k defaults to n\n",
            "        and the function returns n!.\n",
            "        \n",
            "        Raises TypeError if either of the arguments are not integers.\n",
            "        Raises ValueError if either of the arguments are negative.\n",
            "    \n",
            "    pow(x, y, /)\n",
            "        Return x**y (x to the power of y).\n",
            "    \n",
            "    prod(iterable, /, *, start=1)\n",
            "        Calculate the product of all the elements in the input iterable.\n",
            "        \n",
            "        The default start value for the product is 1.\n",
            "        \n",
            "        When the iterable is empty, return the start value.  This function is\n",
            "        intended specifically for use with numeric values and may reject\n",
            "        non-numeric types.\n",
            "    \n",
            "    radians(x, /)\n",
            "        Convert angle x from degrees to radians.\n",
            "    \n",
            "    remainder(x, y, /)\n",
            "        Difference between x and the closest integer multiple of y.\n",
            "        \n",
            "        Return x - n*y where n*y is the closest integer multiple of y.\n",
            "        In the case where x is exactly halfway between two multiples of\n",
            "        y, the nearest even value of n is used. The result is always exact.\n",
            "    \n",
            "    sin(x, /)\n",
            "        Return the sine of x (measured in radians).\n",
            "    \n",
            "    sinh(x, /)\n",
            "        Return the hyperbolic sine of x.\n",
            "    \n",
            "    sqrt(x, /)\n",
            "        Return the square root of x.\n",
            "    \n",
            "    tan(x, /)\n",
            "        Return the tangent of x (measured in radians).\n",
            "    \n",
            "    tanh(x, /)\n",
            "        Return the hyperbolic tangent of x.\n",
            "    \n",
            "    trunc(x, /)\n",
            "        Truncates the Real x to the nearest Integral toward 0.\n",
            "        \n",
            "        Uses the __trunc__ magic method.\n",
            "    \n",
            "    ulp(x, /)\n",
            "        Return the value of the least significant bit of the float x.\n",
            "\n",
            "DATA\n",
            "    e = 2.718281828459045\n",
            "    inf = inf\n",
            "    nan = nan\n",
            "    pi = 3.141592653589793\n",
            "    tau = 6.283185307179586\n",
            "\n",
            "FILE\n",
            "    (built-in)\n",
            "\n",
            "\n"
          ]
        }
      ],
      "source": [
        "help(math)"
      ]
    },
    {
      "cell_type": "code",
      "execution_count": null,
      "metadata": {
        "id": "QMYaIiOf-DfK",
        "outputId": "c2fce5dc-3b3c-4f7c-97c0-486d6dddeac7"
      },
      "outputs": [
        {
          "name": "stdout",
          "output_type": "stream",
          "text": [
            "Help on method sample in module random:\n",
            "\n",
            "sample(population, k, *, counts=None) method of random.Random instance\n",
            "    Chooses k unique random elements from a population sequence or set.\n",
            "    \n",
            "    Returns a new list containing elements from the population while\n",
            "    leaving the original population unchanged.  The resulting list is\n",
            "    in selection order so that all sub-slices will also be valid random\n",
            "    samples.  This allows raffle winners (the sample) to be partitioned\n",
            "    into grand prize and second place winners (the subslices).\n",
            "    \n",
            "    Members of the population need not be hashable or unique.  If the\n",
            "    population contains repeats, then each occurrence is a possible\n",
            "    selection in the sample.\n",
            "    \n",
            "    Repeated elements can be specified one at a time or with the optional\n",
            "    counts parameter.  For example:\n",
            "    \n",
            "        sample(['red', 'blue'], counts=[4, 2], k=5)\n",
            "    \n",
            "    is equivalent to:\n",
            "    \n",
            "        sample(['red', 'red', 'red', 'red', 'blue', 'blue'], k=5)\n",
            "    \n",
            "    To choose a sample from a range of integers, use range() for the\n",
            "    population argument.  This is especially fast and space efficient\n",
            "    for sampling from a large population:\n",
            "    \n",
            "        sample(range(10000000), 60)\n",
            "\n"
          ]
        }
      ],
      "source": [
        "import random\n",
        "help(random.sample)"
      ]
    },
    {
      "cell_type": "code",
      "execution_count": null,
      "metadata": {
        "id": "CaUkWh-d-DfN",
        "outputId": "caaf38a5-f754-4be8-ec10-d168bdc13d61"
      },
      "outputs": [
        {
          "name": "stdout",
          "output_type": "stream",
          "text": [
            "[67, 2, 1, 47, 68, 42, 87, 72, 79, 6]\n",
            "<class 'list'>\n",
            "Mean:47.1\n",
            "Mode:67\n",
            "Deviation:33.2280002407608\n"
          ]
        }
      ],
      "source": [
        "import random\n",
        "marks = random.sample(range(100), 10)\n",
        "print(marks)\n",
        "print(type(marks))\n",
        "\n",
        "import statistics\n",
        "print(\"Mean:{}\".format(statistics.mean(marks)) )\n",
        "print(\"Mode:{}\".format(statistics.mode(marks)) )\n",
        "print(\"Deviation:{}\".format(statistics.stdev(marks)) )"
      ]
    },
    {
      "cell_type": "code",
      "execution_count": null,
      "metadata": {
        "id": "rsyu00zF-DfO",
        "outputId": "91eb7772-c707-4a2a-a6d9-8ba9c1ec9ece"
      },
      "outputs": [
        {
          "data": {
            "text/plain": [
              "['Counter',\n",
              " 'Decimal',\n",
              " 'Fraction',\n",
              " 'NormalDist',\n",
              " 'StatisticsError',\n",
              " '__all__',\n",
              " '__builtins__',\n",
              " '__cached__',\n",
              " '__doc__',\n",
              " '__file__',\n",
              " '__loader__',\n",
              " '__name__',\n",
              " '__package__',\n",
              " '__spec__',\n",
              " '_coerce',\n",
              " '_convert',\n",
              " '_exact_ratio',\n",
              " '_fail_neg',\n",
              " '_find_lteq',\n",
              " '_find_rteq',\n",
              " '_isfinite',\n",
              " '_normal_dist_inv_cdf',\n",
              " '_ss',\n",
              " '_sum',\n",
              " 'bisect_left',\n",
              " 'bisect_right',\n",
              " 'erf',\n",
              " 'exp',\n",
              " 'fabs',\n",
              " 'fmean',\n",
              " 'fsum',\n",
              " 'geometric_mean',\n",
              " 'groupby',\n",
              " 'harmonic_mean',\n",
              " 'hypot',\n",
              " 'itemgetter',\n",
              " 'log',\n",
              " 'math',\n",
              " 'mean',\n",
              " 'median',\n",
              " 'median_grouped',\n",
              " 'median_high',\n",
              " 'median_low',\n",
              " 'mode',\n",
              " 'multimode',\n",
              " 'numbers',\n",
              " 'pstdev',\n",
              " 'pvariance',\n",
              " 'quantiles',\n",
              " 'random',\n",
              " 'sqrt',\n",
              " 'stdev',\n",
              " 'tau',\n",
              " 'variance']"
            ]
          },
          "execution_count": 128,
          "metadata": {},
          "output_type": "execute_result"
        }
      ],
      "source": [
        "dir(statistics)"
      ]
    },
    {
      "cell_type": "code",
      "execution_count": null,
      "metadata": {
        "id": "30yJtkaA-DfS",
        "outputId": "1ed64726-2692-4a90-8bca-5c8ea6881235"
      },
      "outputs": [
        {
          "name": "stdout",
          "output_type": "stream",
          "text": [
            "24\n",
            "24\n"
          ]
        }
      ],
      "source": [
        "def factorial(n):\n",
        "    if(n==0): return 1\n",
        "    \n",
        "    if(n==1): return 1\n",
        "    \n",
        "    res = 1\n",
        "    while(n>=1):\n",
        "        res = res * n\n",
        "        n = n-1\n",
        "    return res\n",
        "\n",
        "def recursive_factorial(n):\n",
        "    if(n==0): return 1\n",
        "    \n",
        "    if(n==1): return 1\n",
        "    \n",
        "    return n*recursive_factorial(n-1)\n",
        "\n",
        "print(factorial(4))\n",
        "print(recursive_factorial(4))    "
      ]
    },
    {
      "cell_type": "markdown",
      "metadata": {
        "id": "R3edmhjS-DfU"
      },
      "source": [
        "# Numpy: The Basics\n",
        "https://numpy.org/\n",
        "https://www.w3schools.com/python/numpy/default.asp"
      ]
    },
    {
      "cell_type": "code",
      "execution_count": null,
      "metadata": {
        "id": "HGs3PWnC-DfV",
        "outputId": "6c66657f-427c-42f4-8615-01b7ff6dfe4d"
      },
      "outputs": [
        {
          "name": "stdout",
          "output_type": "stream",
          "text": [
            "[[1, 0, 0], [1, 0, 0]]\n",
            "<class 'list'>\n"
          ]
        }
      ],
      "source": [
        "a = [ [1, 0, 0], [1,0,0] ]\n",
        "print(a)\n",
        "print(type(a))"
      ]
    },
    {
      "cell_type": "code",
      "execution_count": null,
      "metadata": {
        "id": "sGb-wxXd-DfX",
        "outputId": "37b42721-b711-44df-f07c-5d4408eb1adf"
      },
      "outputs": [
        {
          "name": "stdout",
          "output_type": "stream",
          "text": [
            "[1, 0, 'Testing']\n",
            "<class 'list'>\n"
          ]
        }
      ],
      "source": [
        "a = [1, 0, 'Testing']\n",
        "print(a)\n",
        "print(type(a))"
      ]
    },
    {
      "cell_type": "code",
      "execution_count": null,
      "metadata": {
        "id": "tO3dZeyD-DfY",
        "outputId": "403fb1aa-9ae9-4757-ad42-64e92a8352af"
      },
      "outputs": [
        {
          "name": "stdout",
          "output_type": "stream",
          "text": [
            "[1 0 0]\n",
            "<class 'numpy.ndarray'> int32\n"
          ]
        }
      ],
      "source": [
        "import numpy as np\n",
        "a = np.array( [1,0,0] )\n",
        "print(a)\n",
        "print(type(a), a.dtype)"
      ]
    },
    {
      "cell_type": "code",
      "execution_count": null,
      "metadata": {
        "id": "BH6A9Eha-DfZ",
        "outputId": "a0861459-7a91-4e85-a5fe-2cf4babcea6c"
      },
      "outputs": [
        {
          "name": "stdout",
          "output_type": "stream",
          "text": [
            "[[1 0 0]\n",
            " [0 0 1]]\n"
          ]
        }
      ],
      "source": [
        "a = np.array( [ [1,0,0], [0,0,1] ] )\n",
        "print(a)"
      ]
    },
    {
      "cell_type": "code",
      "execution_count": null,
      "metadata": {
        "id": "R2b4NdBQ-Dfa",
        "outputId": "94ff7316-f101-4aa2-96fb-4846cc6fcf6c"
      },
      "outputs": [
        {
          "name": "stdout",
          "output_type": "stream",
          "text": [
            "[[1 0 0]\n",
            " [0 0 1]]\n"
          ]
        }
      ],
      "source": [
        "a = np.array( [ (1,0,0), (0,0,1) ] )\n",
        "print(a)"
      ]
    },
    {
      "cell_type": "code",
      "execution_count": null,
      "metadata": {
        "id": "gMiiupBQ-Dfb",
        "outputId": "1472bdc3-7b5d-42d7-c2f2-ee72e876def1"
      },
      "outputs": [
        {
          "name": "stdout",
          "output_type": "stream",
          "text": [
            "['ALLOW_THREADS', 'AxisError', 'BUFSIZE', 'Bytes0', 'CLIP', 'ComplexWarning', 'DataSource', 'Datetime64', 'ERR_CALL', 'ERR_DEFAULT', 'ERR_IGNORE', 'ERR_LOG', 'ERR_PRINT', 'ERR_RAISE', 'ERR_WARN', 'FLOATING_POINT_SUPPORT', 'FPE_DIVIDEBYZERO', 'FPE_INVALID', 'FPE_OVERFLOW', 'FPE_UNDERFLOW', 'False_', 'Inf', 'Infinity', 'MAXDIMS', 'MAY_SHARE_BOUNDS', 'MAY_SHARE_EXACT', 'MachAr', 'ModuleDeprecationWarning', 'NAN', 'NINF', 'NZERO', 'NaN', 'PINF', 'PZERO', 'RAISE', 'RankWarning', 'SHIFT_DIVIDEBYZERO', 'SHIFT_INVALID', 'SHIFT_OVERFLOW', 'SHIFT_UNDERFLOW', 'ScalarType', 'Str0', 'Tester', 'TooHardError', 'True_', 'UFUNC_BUFSIZE_DEFAULT', 'UFUNC_PYVALS_NAME', 'Uint64', 'VisibleDeprecationWarning', 'WRAP', '_NoValue', '_UFUNC_API', '__NUMPY_SETUP__', '__all__', '__builtins__', '__cached__', '__config__', '__deprecated_attrs__', '__dir__', '__doc__', '__expired_functions__', '__file__', '__getattr__', '__git_revision__', '__loader__', '__mkl_version__', '__name__', '__package__', '__path__', '__spec__', '__version__', '_add_newdoc_ufunc', '_distributor_init', '_financial_names', '_globals', '_mat', '_pytesttester', 'abs', 'absolute', 'add', 'add_docstring', 'add_newdoc', 'add_newdoc_ufunc', 'alen', 'all', 'allclose', 'alltrue', 'amax', 'amin', 'angle', 'any', 'append', 'apply_along_axis', 'apply_over_axes', 'arange', 'arccos', 'arccosh', 'arcsin', 'arcsinh', 'arctan', 'arctan2', 'arctanh', 'argmax', 'argmin', 'argpartition', 'argsort', 'argwhere', 'around', 'array', 'array2string', 'array_equal', 'array_equiv', 'array_repr', 'array_split', 'array_str', 'asanyarray', 'asarray', 'asarray_chkfinite', 'ascontiguousarray', 'asfarray', 'asfortranarray', 'asmatrix', 'asscalar', 'atleast_1d', 'atleast_2d', 'atleast_3d', 'average', 'bartlett', 'base_repr', 'binary_repr', 'bincount', 'bitwise_and', 'bitwise_not', 'bitwise_or', 'bitwise_xor', 'blackman', 'block', 'bmat', 'bool8', 'bool_', 'broadcast', 'broadcast_arrays', 'broadcast_shapes', 'broadcast_to', 'busday_count', 'busday_offset', 'busdaycalendar', 'byte', 'byte_bounds', 'bytes0', 'bytes_', 'c_', 'can_cast', 'cast', 'cbrt', 'cdouble', 'ceil', 'cfloat', 'char', 'character', 'chararray', 'choose', 'clip', 'clongdouble', 'clongfloat', 'column_stack', 'common_type', 'compare_chararrays', 'compat', 'complex128', 'complex64', 'complex_', 'complexfloating', 'compress', 'concatenate', 'conj', 'conjugate', 'convolve', 'copy', 'copysign', 'copyto', 'core', 'corrcoef', 'correlate', 'cos', 'cosh', 'count_nonzero', 'cov', 'cross', 'csingle', 'ctypeslib', 'cumprod', 'cumproduct', 'cumsum', 'datetime64', 'datetime_as_string', 'datetime_data', 'deg2rad', 'degrees', 'delete', 'deprecate', 'deprecate_with_doc', 'diag', 'diag_indices', 'diag_indices_from', 'diagflat', 'diagonal', 'diff', 'digitize', 'disp', 'divide', 'divmod', 'dot', 'double', 'dsplit', 'dstack', 'dtype', 'e', 'ediff1d', 'einsum', 'einsum_path', 'emath', 'empty', 'empty_like', 'equal', 'errstate', 'euler_gamma', 'exp', 'exp2', 'expand_dims', 'expm1', 'extract', 'eye', 'fabs', 'fastCopyAndTranspose', 'fft', 'fill_diagonal', 'find_common_type', 'finfo', 'fix', 'flatiter', 'flatnonzero', 'flexible', 'flip', 'fliplr', 'flipud', 'float16', 'float32', 'float64', 'float_', 'float_power', 'floating', 'floor', 'floor_divide', 'fmax', 'fmin', 'fmod', 'format_float_positional', 'format_float_scientific', 'format_parser', 'frexp', 'frombuffer', 'fromfile', 'fromfunction', 'fromiter', 'frompyfunc', 'fromregex', 'fromstring', 'full', 'full_like', 'gcd', 'generic', 'genfromtxt', 'geomspace', 'get_array_wrap', 'get_include', 'get_printoptions', 'getbufsize', 'geterr', 'geterrcall', 'geterrobj', 'gradient', 'greater', 'greater_equal', 'half', 'hamming', 'hanning', 'heaviside', 'histogram', 'histogram2d', 'histogram_bin_edges', 'histogramdd', 'hsplit', 'hstack', 'hypot', 'i0', 'identity', 'iinfo', 'imag', 'in1d', 'index_exp', 'indices', 'inexact', 'inf', 'info', 'infty', 'inner', 'insert', 'int0', 'int16', 'int32', 'int64', 'int8', 'int_', 'intc', 'integer', 'interp', 'intersect1d', 'intp', 'invert', 'is_busday', 'isclose', 'iscomplex', 'iscomplexobj', 'isfinite', 'isfortran', 'isin', 'isinf', 'isnan', 'isnat', 'isneginf', 'isposinf', 'isreal', 'isrealobj', 'isscalar', 'issctype', 'issubclass_', 'issubdtype', 'issubsctype', 'iterable', 'ix_', 'kaiser', 'kron', 'lcm', 'ldexp', 'left_shift', 'less', 'less_equal', 'lexsort', 'lib', 'linalg', 'linspace', 'little_endian', 'load', 'loads', 'loadtxt', 'log', 'log10', 'log1p', 'log2', 'logaddexp', 'logaddexp2', 'logical_and', 'logical_not', 'logical_or', 'logical_xor', 'logspace', 'longcomplex', 'longdouble', 'longfloat', 'longlong', 'lookfor', 'ma', 'mafromtxt', 'mask_indices', 'mat', 'math', 'matmul', 'matrix', 'matrixlib', 'max', 'maximum', 'maximum_sctype', 'may_share_memory', 'mean', 'median', 'memmap', 'meshgrid', 'mgrid', 'min', 'min_scalar_type', 'minimum', 'mintypecode', 'mkl', 'mod', 'modf', 'moveaxis', 'msort', 'multiply', 'nan', 'nan_to_num', 'nanargmax', 'nanargmin', 'nancumprod', 'nancumsum', 'nanmax', 'nanmean', 'nanmedian', 'nanmin', 'nanpercentile', 'nanprod', 'nanquantile', 'nanstd', 'nansum', 'nanvar', 'nbytes', 'ndarray', 'ndenumerate', 'ndfromtxt', 'ndim', 'ndindex', 'nditer', 'negative', 'nested_iters', 'newaxis', 'nextafter', 'nonzero', 'not_equal', 'numarray', 'number', 'obj2sctype', 'object0', 'object_', 'ogrid', 'oldnumeric', 'ones', 'ones_like', 'os', 'outer', 'packbits', 'pad', 'partition', 'percentile', 'pi', 'piecewise', 'place', 'poly', 'poly1d', 'polyadd', 'polyder', 'polydiv', 'polyfit', 'polyint', 'polymul', 'polynomial', 'polysub', 'polyval', 'positive', 'power', 'printoptions', 'prod', 'product', 'promote_types', 'ptp', 'put', 'put_along_axis', 'putmask', 'quantile', 'r_', 'rad2deg', 'radians', 'random', 'ravel', 'ravel_multi_index', 'real', 'real_if_close', 'rec', 'recarray', 'recfromcsv', 'recfromtxt', 'reciprocal', 'record', 'remainder', 'repeat', 'require', 'reshape', 'resize', 'result_type', 'right_shift', 'rint', 'roll', 'rollaxis', 'roots', 'rot90', 'round', 'round_', 'row_stack', 's_', 'safe_eval', 'save', 'savetxt', 'savez', 'savez_compressed', 'sctype2char', 'sctypeDict', 'sctypes', 'searchsorted', 'select', 'set_numeric_ops', 'set_printoptions', 'set_string_function', 'setbufsize', 'setdiff1d', 'seterr', 'seterrcall', 'seterrobj', 'setxor1d', 'shape', 'shares_memory', 'short', 'show_config', 'sign', 'signbit', 'signedinteger', 'sin', 'sinc', 'single', 'singlecomplex', 'sinh', 'size', 'sometrue', 'sort', 'sort_complex', 'source', 'spacing', 'split', 'sqrt', 'square', 'squeeze', 'stack', 'std', 'str0', 'str_', 'string_', 'subtract', 'sum', 'swapaxes', 'sys', 'take', 'take_along_axis', 'tan', 'tanh', 'tensordot', 'test', 'testing', 'tile', 'timedelta64', 'trace', 'tracemalloc_domain', 'transpose', 'trapz', 'tri', 'tril', 'tril_indices', 'tril_indices_from', 'trim_zeros', 'triu', 'triu_indices', 'triu_indices_from', 'true_divide', 'trunc', 'typeDict', 'typecodes', 'typename', 'ubyte', 'ufunc', 'uint', 'uint0', 'uint16', 'uint32', 'uint64', 'uint8', 'uintc', 'uintp', 'ulonglong', 'unicode_', 'union1d', 'unique', 'unpackbits', 'unravel_index', 'unsignedinteger', 'unwrap', 'use_hugepage', 'ushort', 'vander', 'var', 'vdot', 'vectorize', 'version', 'void', 'void0', 'vsplit', 'vstack', 'warnings', 'where', 'who', 'zeros', 'zeros_like']\n"
          ]
        }
      ],
      "source": [
        "print(dir(np))\n",
        "#help(np)\n",
        "#help(np.unravel_index)"
      ]
    },
    {
      "cell_type": "code",
      "execution_count": null,
      "metadata": {
        "id": "rdo6kYpb-Dfc",
        "outputId": "80600e74-262f-44e1-d761-b3fb0bd7bd38"
      },
      "outputs": [
        {
          "name": "stdout",
          "output_type": "stream",
          "text": [
            "[[0. 0. 0.]\n",
            " [0. 0. 0.]\n",
            " [0. 0. 0.]]\n"
          ]
        }
      ],
      "source": [
        "#help(np.zeros)\n",
        "a = np.zeros( (3,3) )\n",
        "print(a)"
      ]
    },
    {
      "cell_type": "code",
      "execution_count": null,
      "metadata": {
        "id": "JmlSGYUh-Dfd",
        "outputId": "53977806-19e4-4688-acd3-24544cc2577a"
      },
      "outputs": [
        {
          "name": "stdout",
          "output_type": "stream",
          "text": [
            "2\n",
            "(3, 3)\n",
            "9\n",
            "float64\n",
            "0.0\n"
          ]
        }
      ],
      "source": [
        "print(a.ndim)\n",
        "print(a.shape)\n",
        "print(a.size)\n",
        "print(a.dtype)\n",
        "print(a[2][2])"
      ]
    },
    {
      "cell_type": "code",
      "execution_count": null,
      "metadata": {
        "id": "kcW-qcNC-Dfe",
        "outputId": "2c324cc7-7d53-4ff3-d950-36a03633f653"
      },
      "outputs": [
        {
          "name": "stdout",
          "output_type": "stream",
          "text": [
            "[10 15 20 25]\n",
            "[0.   0.25 0.5  0.75 1.   1.25 1.5  1.75 2.  ]\n",
            "[10 10 10 10 10]\n",
            "[0.         0.78539816 1.57079633 2.35619449 3.14159265]\n",
            "[0.00000000e+00 7.07106781e-01 1.00000000e+00 7.07106781e-01\n",
            " 1.22464680e-16]\n",
            "[ 1.          2.19328005  4.81047738 10.55072407 23.14069263]\n"
          ]
        }
      ],
      "source": [
        "a = np.arange( 10, 30, 5 )\n",
        "print(a)\n",
        "a = np.linspace( 0, 2, 9 )\n",
        "print(a)\n",
        "b= np.repeat(10, 5)\n",
        "print(b)\n",
        "\n",
        "d = np.linspace( 0, np.pi, 5)\n",
        "print(d)\n",
        "print(np.sin(d))\n",
        "print(np.exp(d))"
      ]
    },
    {
      "cell_type": "code",
      "execution_count": null,
      "metadata": {
        "id": "UcbdMGjx-Dff",
        "outputId": "ada62314-adac-48fb-e0c3-65104c56699c"
      },
      "outputs": [
        {
          "name": "stdout",
          "output_type": "stream",
          "text": [
            "[2 4]\n",
            "[1 3 5 6]\n",
            "[False  True False  True False  True False  True False  True]\n",
            "(array([1, 3, 5, 7, 9], dtype=int64),)\n",
            "[2 2 4 4 6]\n"
          ]
        }
      ],
      "source": [
        "a = np.array([1,2,3,2,3,4,3,4,5,6])\n",
        "b = np.array([7,2,10,2,7,4,9,4,9,8])\n",
        "\n",
        "print(np.intersect1d(a,b))\n",
        "print(np.setdiff1d(a,b))\n",
        "\n",
        "print(a % 2 == 0)\n",
        "\n",
        "print(np.where(a % 2 == 0))\n",
        "\n",
        "print(a[a % 2 == 0])"
      ]
    },
    {
      "cell_type": "markdown",
      "metadata": {
        "id": "7Gj_PftV-Dfg"
      },
      "source": [
        "# Indexing, Slicing and Iterating"
      ]
    },
    {
      "cell_type": "code",
      "execution_count": null,
      "metadata": {
        "id": "I4velIMk-Dfg",
        "outputId": "ae125655-cfb9-47a0-e988-12bd82e2fac8"
      },
      "outputs": [
        {
          "name": "stdout",
          "output_type": "stream",
          "text": [
            "[  0   1   8  27  64 125 216 343 512 729]\n"
          ]
        }
      ],
      "source": [
        "a = np.arange(10)**3\n",
        "print(a)"
      ]
    },
    {
      "cell_type": "code",
      "execution_count": null,
      "metadata": {
        "id": "uHjgWCfW-Dfi",
        "outputId": "7f03fa69-a1f9-4cd6-e045-c5a5c1f30aa8"
      },
      "outputs": [
        {
          "name": "stdout",
          "output_type": "stream",
          "text": [
            "[ 8 27 64]\n"
          ]
        }
      ],
      "source": [
        "print(a[2:5])"
      ]
    },
    {
      "cell_type": "code",
      "execution_count": null,
      "metadata": {
        "id": "k-iyAd5O-Dfj",
        "outputId": "1d09142e-5374-4a69-b8b3-0f19953f8c95"
      },
      "outputs": [
        {
          "name": "stdout",
          "output_type": "stream",
          "text": [
            "[125 216 343 512 729]\n",
            "[ 0  1  8 27 64]\n"
          ]
        }
      ],
      "source": [
        "print(a[5:])\n",
        "print(a[:5])"
      ]
    },
    {
      "cell_type": "code",
      "execution_count": null,
      "metadata": {
        "id": "iSGP6lp8-Dfj",
        "outputId": "c5950e3f-4d1f-4acd-d6be-1915b08f3f4e"
      },
      "outputs": [
        {
          "name": "stdout",
          "output_type": "stream",
          "text": [
            "[125 216 343]\n",
            "[125 216 343 512 729]\n"
          ]
        }
      ],
      "source": [
        "print(a[5:-2])\n",
        "print(a[-5:])"
      ]
    },
    {
      "cell_type": "code",
      "execution_count": null,
      "metadata": {
        "id": "xQQeKDG7-Dfj",
        "outputId": "a99ddad7-ee0b-4089-b426-3bfd966df5e1"
      },
      "outputs": [
        {
          "name": "stdout",
          "output_type": "stream",
          "text": [
            "[0 0 0 0]\n",
            "[  0   1   0  27   0 125   0 343   0 729]\n",
            "[729   0 343   0 125   0  27   0   1   0]\n"
          ]
        }
      ],
      "source": [
        "print(a[2:10:2])\n",
        "a[2:10:2] = 0\n",
        "print(a)\n",
        "print(a[::-1])"
      ]
    },
    {
      "cell_type": "code",
      "execution_count": null,
      "metadata": {
        "id": "Uli_BDYn-Dfk",
        "outputId": "0dbfa134-4994-457c-90c6-a71de938f71d"
      },
      "outputs": [
        {
          "name": "stdout",
          "output_type": "stream",
          "text": [
            "[[ 2.12409173 -1.10461695  0.01692881]\n",
            " [ 0.25208916 -1.06828206 -0.06389821]\n",
            " [-1.41394657 -2.0987585   1.26396372]]\n",
            "[[ 2.12409173 -1.10461695  0.01692881]]\n"
          ]
        }
      ],
      "source": [
        "ar = np.random.normal(0, 1, size=(3,3))\n",
        "print(ar)\n",
        "print(ar[:1,])"
      ]
    },
    {
      "cell_type": "code",
      "execution_count": null,
      "metadata": {
        "id": "gXJ9svgL-Dfk",
        "outputId": "f621dee6-0ddd-4515-d890-1d42c9a4980d"
      },
      "outputs": [
        {
          "name": "stdout",
          "output_type": "stream",
          "text": [
            "[[-1.10461695  0.01692881]]\n"
          ]
        }
      ],
      "source": [
        "print(ar[:1,1:3])"
      ]
    },
    {
      "cell_type": "code",
      "execution_count": null,
      "metadata": {
        "id": "QTcHDKKS-Dfl",
        "outputId": "682fe944-1f8a-4093-da2f-1323562e27be"
      },
      "outputs": [
        {
          "name": "stdout",
          "output_type": "stream",
          "text": [
            "[[ 2.12409173 -1.10461695  0.01692881]\n",
            " [ 0.25208916 -1.06828206 -0.06389821]\n",
            " [-1.41394657 -2.0987585   1.26396372]]\n",
            "[[-1.41394657 -2.0987585   1.26396372]\n",
            " [ 0.25208916 -1.06828206 -0.06389821]\n",
            " [ 2.12409173 -1.10461695  0.01692881]]\n",
            "[[ 0.01692881 -1.10461695  2.12409173]\n",
            " [-0.06389821 -1.06828206  0.25208916]\n",
            " [ 1.26396372 -2.0987585  -1.41394657]]\n"
          ]
        }
      ],
      "source": [
        "print(ar[...])\n",
        "print(ar[::-1])\n",
        "print(ar[:, ::-1])"
      ]
    },
    {
      "cell_type": "code",
      "execution_count": null,
      "metadata": {
        "id": "Yn0Krt3f-Dfl",
        "outputId": "21f96a73-a911-42f6-9742-29cebd9707bc"
      },
      "outputs": [
        {
          "name": "stdout",
          "output_type": "stream",
          "text": [
            "2.1240917269169577\n",
            "-1.1046169520593274\n",
            "0.016928811303672946\n",
            "0.2520891580311893\n",
            "-1.068282058287259\n",
            "-0.06389820817308421\n",
            "-1.4139465719217985\n",
            "-2.098758502243779\n",
            "1.263963719832538\n"
          ]
        }
      ],
      "source": [
        "for i in ar.flat:\n",
        "    print(i)"
      ]
    },
    {
      "cell_type": "code",
      "execution_count": null,
      "metadata": {
        "id": "Wm6KEUeq-Dfn",
        "outputId": "fe38536d-eb66-479d-9703-e7fd063ecc71"
      },
      "outputs": [
        {
          "name": "stdout",
          "output_type": "stream",
          "text": [
            "[ 2.12409173 -1.10461695  0.01692881  0.25208916 -1.06828206 -0.06389821\n",
            " -1.41394657 -2.0987585   1.26396372]\n",
            "[ 2.12409173 -1.10461695  0.01692881  0.25208916 -1.06828206 -0.06389821\n",
            " -1.41394657 -2.0987585   1.26396372]\n"
          ]
        }
      ],
      "source": [
        "aravel = ar.ravel()\n",
        "print(aravel)\n",
        "print(ar.flatten())"
      ]
    },
    {
      "cell_type": "markdown",
      "metadata": {
        "id": "-W2gCkIv-Dfn"
      },
      "source": [
        "# Shape Manipulation"
      ]
    },
    {
      "cell_type": "code",
      "execution_count": null,
      "metadata": {
        "id": "_ETzs17u-Dfo",
        "outputId": "70a1a67d-62ce-4977-dd1c-54a5346036e9"
      },
      "outputs": [
        {
          "name": "stdout",
          "output_type": "stream",
          "text": [
            "(3, 3)\n",
            "(9,)\n"
          ]
        }
      ],
      "source": [
        "print(ar.shape)\n",
        "print(aravel.shape)"
      ]
    },
    {
      "cell_type": "code",
      "execution_count": null,
      "metadata": {
        "id": "idVx2IoG-Dfo",
        "outputId": "e63d9274-5355-4b3a-a0b6-958fc49e73e0"
      },
      "outputs": [
        {
          "name": "stdout",
          "output_type": "stream",
          "text": [
            "(3, 3)\n",
            "[[ 2.12409173 -1.10461695  0.01692881]\n",
            " [ 0.25208916 -1.06828206 -0.06389821]\n",
            " [-1.41394657 -2.0987585   1.26396372]]\n"
          ]
        }
      ],
      "source": [
        "are= aravel.reshape(3,3)\n",
        "print(are.shape)\n",
        "print(are)"
      ]
    },
    {
      "cell_type": "code",
      "execution_count": null,
      "metadata": {
        "id": "bUm3nhQW-Dfo",
        "outputId": "536b6d47-8059-4252-9436-edb809e9d17c"
      },
      "outputs": [
        {
          "name": "stdout",
          "output_type": "stream",
          "text": [
            "[ 2.12409173 -1.10461695  0.01692881  0.25208916 -1.06828206 -0.06389821\n",
            " -1.41394657 -2.0987585   1.26396372]\n",
            "[[ 2.12409173 -1.10461695  0.01692881]\n",
            " [ 0.25208916 -1.06828206 -0.06389821]\n",
            " [-1.41394657 -2.0987585   1.26396372]]\n"
          ]
        }
      ],
      "source": [
        "print(aravel)\n",
        "aravel.resize(3,3)\n",
        "print(aravel)"
      ]
    },
    {
      "cell_type": "markdown",
      "metadata": {
        "id": "M0X-eUlr-Dfo"
      },
      "source": [
        "# Stacking"
      ]
    },
    {
      "cell_type": "code",
      "execution_count": null,
      "metadata": {
        "id": "rHVTkC6u-Dfp",
        "outputId": "8058b7ea-15c2-4e64-a93b-5ab666c6d5bc"
      },
      "outputs": [
        {
          "name": "stdout",
          "output_type": "stream",
          "text": [
            "[[1. 5.]\n",
            " [6. 3.]]\n",
            "[[3. 3.]\n",
            " [5. 2.]]\n"
          ]
        }
      ],
      "source": [
        "a = np.floor(10*np.random.random((2,2)))\n",
        "b = np.floor(10*np.random.random((2,2)))\n",
        "print(a)\n",
        "print(b)"
      ]
    },
    {
      "cell_type": "code",
      "execution_count": null,
      "metadata": {
        "id": "iMB5gUHc-Dfp",
        "outputId": "78778cb6-55cf-4d82-d3f3-815ad232d360"
      },
      "outputs": [
        {
          "name": "stdout",
          "output_type": "stream",
          "text": [
            "[[1. 5.]\n",
            " [6. 3.]\n",
            " [3. 3.]\n",
            " [5. 2.]]\n",
            "[[1. 5. 3. 3.]\n",
            " [6. 3. 5. 2.]]\n"
          ]
        }
      ],
      "source": [
        "print(np.vstack((a,b)))\n",
        "print(np.hstack((a,b)))"
      ]
    },
    {
      "cell_type": "code",
      "execution_count": null,
      "metadata": {
        "id": "UfA2Tmju-Dfq"
      },
      "outputs": [],
      "source": [
        "#Exercises\n",
        "#1.  Create a 2d array of (20, 20) shape with 1 on the border and 0 inside\n",
        "#2. Create a checker or chess board as 8x8 matrix using the np.tile function(0- white, 1- black)\n",
        "#3.  Normalize a 5x5 random matrix. Z = (X - mu )/ Sigma\n",
        "#4. How to get all the dates corresponding to the month of May 2022 [use np.arange with dtype='datetime64[D]]\n",
        "#5. How to compute ((A+B)*(-A/2)) in place (without copy)? A, B random vectors\n",
        "#6. How to get the n largest values of a random  array? use np.argsort()"
      ]
    },
    {
      "cell_type": "code",
      "execution_count": null,
      "metadata": {
        "id": "hzpzoHxd-Dfq",
        "outputId": "144cb94a-662d-49cb-ddec-7914dade67a5"
      },
      "outputs": [
        {
          "name": "stdout",
          "output_type": "stream",
          "text": [
            "[[1. 1. 1. 1. 1. 1. 1. 1. 1. 1. 1. 1. 1. 1. 1. 1. 1. 1. 1. 1.]\n",
            " [1. 0. 0. 0. 0. 0. 0. 0. 0. 0. 0. 0. 0. 0. 0. 0. 0. 0. 0. 1.]\n",
            " [1. 0. 0. 0. 0. 0. 0. 0. 0. 0. 0. 0. 0. 0. 0. 0. 0. 0. 0. 1.]\n",
            " [1. 0. 0. 0. 0. 0. 0. 0. 0. 0. 0. 0. 0. 0. 0. 0. 0. 0. 0. 1.]\n",
            " [1. 0. 0. 0. 0. 0. 0. 0. 0. 0. 0. 0. 0. 0. 0. 0. 0. 0. 0. 1.]\n",
            " [1. 0. 0. 0. 0. 0. 0. 0. 0. 0. 0. 0. 0. 0. 0. 0. 0. 0. 0. 1.]\n",
            " [1. 0. 0. 0. 0. 0. 0. 0. 0. 0. 0. 0. 0. 0. 0. 0. 0. 0. 0. 1.]\n",
            " [1. 0. 0. 0. 0. 0. 0. 0. 0. 0. 0. 0. 0. 0. 0. 0. 0. 0. 0. 1.]\n",
            " [1. 0. 0. 0. 0. 0. 0. 0. 0. 0. 0. 0. 0. 0. 0. 0. 0. 0. 0. 1.]\n",
            " [1. 0. 0. 0. 0. 0. 0. 0. 0. 0. 0. 0. 0. 0. 0. 0. 0. 0. 0. 1.]\n",
            " [1. 0. 0. 0. 0. 0. 0. 0. 0. 0. 0. 0. 0. 0. 0. 0. 0. 0. 0. 1.]\n",
            " [1. 0. 0. 0. 0. 0. 0. 0. 0. 0. 0. 0. 0. 0. 0. 0. 0. 0. 0. 1.]\n",
            " [1. 0. 0. 0. 0. 0. 0. 0. 0. 0. 0. 0. 0. 0. 0. 0. 0. 0. 0. 1.]\n",
            " [1. 0. 0. 0. 0. 0. 0. 0. 0. 0. 0. 0. 0. 0. 0. 0. 0. 0. 0. 1.]\n",
            " [1. 0. 0. 0. 0. 0. 0. 0. 0. 0. 0. 0. 0. 0. 0. 0. 0. 0. 0. 1.]\n",
            " [1. 0. 0. 0. 0. 0. 0. 0. 0. 0. 0. 0. 0. 0. 0. 0. 0. 0. 0. 1.]\n",
            " [1. 0. 0. 0. 0. 0. 0. 0. 0. 0. 0. 0. 0. 0. 0. 0. 0. 0. 0. 1.]\n",
            " [1. 0. 0. 0. 0. 0. 0. 0. 0. 0. 0. 0. 0. 0. 0. 0. 0. 0. 0. 1.]\n",
            " [1. 0. 0. 0. 0. 0. 0. 0. 0. 0. 0. 0. 0. 0. 0. 0. 0. 0. 0. 1.]\n",
            " [1. 1. 1. 1. 1. 1. 1. 1. 1. 1. 1. 1. 1. 1. 1. 1. 1. 1. 1. 1.]]\n",
            "[[0 1 0 1 0 1 0 1]\n",
            " [1 0 1 0 1 0 1 0]\n",
            " [0 1 0 1 0 1 0 1]\n",
            " [1 0 1 0 1 0 1 0]\n",
            " [0 1 0 1 0 1 0 1]\n",
            " [1 0 1 0 1 0 1 0]\n",
            " [0 1 0 1 0 1 0 1]\n",
            " [1 0 1 0 1 0 1 0]]\n",
            "[[0.78987272 0.6445424  0.79217012 0.13278395 0.58234288]\n",
            " [0.27929288 0.40593347 0.47542461 0.68341698 0.73909277]\n",
            " [0.23501403 0.73246197 0.49794173 0.44884328 0.94709192]\n",
            " [0.90104697 0.85533997 0.7137858  0.8692463  0.82307228]\n",
            " [0.89939226 0.98160857 0.15146111 0.83172449 0.25083619]]\n",
            "[[ 0.63269861  0.06970251  0.64159852 -1.91280213 -0.17125265]\n",
            " [-1.34524016 -0.85464628 -0.58544409  0.22029899  0.4359818 ]\n",
            " [-1.5167723   0.41029471 -0.49821487 -0.6884177   1.24175115]\n",
            " [ 1.06337732  0.88631267  0.33794497  0.94018449  0.76131063]\n",
            " [ 1.05696712  1.37546545 -1.84044853  0.79482849 -1.45547872]]\n",
            "['2022-05-01' '2022-05-02' '2022-05-03' '2022-05-04' '2022-05-05'\n",
            " '2022-05-06' '2022-05-07' '2022-05-08' '2022-05-09' '2022-05-10'\n",
            " '2022-05-11' '2022-05-12' '2022-05-13' '2022-05-14' '2022-05-15'\n",
            " '2022-05-16' '2022-05-17' '2022-05-18' '2022-05-19' '2022-05-20'\n",
            " '2022-05-21' '2022-05-22' '2022-05-23' '2022-05-24' '2022-05-25'\n",
            " '2022-05-26' '2022-05-27' '2022-05-28' '2022-05-29' '2022-05-30'\n",
            " '2022-05-31']\n",
            "[1. 1. 1.]\n",
            "[2. 2. 2.]\n",
            "[3. 3. 3.]\n",
            "[9995 9996 9997 9998 9999]\n",
            "[9998 9996 9997 9999 9995]\n"
          ]
        }
      ],
      "source": [
        "maze = np.ones((20,20))\n",
        "maze[1:-1,1:-1] = 0\n",
        "print(maze)\n",
        "\n",
        "chessboard = np.tile( np.array([[0,1],[1,0]]), (4,4))\n",
        "print(chessboard)\n",
        "\n",
        "X = np.random.random((5,5))\n",
        "print(X)\n",
        "Z = (X - np.mean (X)) / (np.std (X))\n",
        "print(Z)\n",
        "\n",
        "days = np.arange('2022-05', '2022-06', dtype='datetime64[D]')\n",
        "print(days)\n",
        "\n",
        "A = np.ones(3)*1\n",
        "print(A)\n",
        "B = np.ones(3)*2\n",
        "print(B)\n",
        "C = np.ones(3)*3\n",
        "print(C)\n",
        "np.add(A,B,out=B)\n",
        "np.divide(A,2,out=A)\n",
        "np.negative(A,out=A)\n",
        "np.multiply(A,B,out=A)\n",
        "\n",
        "\n",
        "vals = np.arange(10000)\n",
        "np.random.shuffle(vals)\n",
        "n = 5\n",
        "# Slow\n",
        "print (vals[np.argsort(vals)[-n:]])\n",
        "# Fast\n",
        "print (vals[np.argpartition(-vals,n)[:n]])"
      ]
    },
    {
      "cell_type": "markdown",
      "metadata": {
        "id": "2frUW9HQ-Dfr"
      },
      "source": [
        "# SCipy\n",
        "https://scipy.org/  \n",
        "https://www.w3schools.com/python/scipy/index.php"
      ]
    },
    {
      "cell_type": "code",
      "execution_count": null,
      "metadata": {
        "id": "x9c2gDsh-Dfr",
        "outputId": "c644dcca-184b-46cd-b738-7578badb9a9f"
      },
      "outputs": [
        {
          "name": "stdout",
          "output_type": "stream",
          "text": [
            "0.34657359027997264\n",
            "0.34657359027997264\n",
            "299792458.0\n",
            "9.80665\n"
          ]
        }
      ],
      "source": [
        "from scipy import special\n",
        "from scipy import constants\n",
        "\n",
        "print(special.entr(0.5) )\n",
        "print(-0.5*math.log(0.5) )\n",
        "\n",
        "print(constants.speed_of_light)\n",
        "print(constants.g)"
      ]
    },
    {
      "cell_type": "code",
      "execution_count": null,
      "metadata": {
        "id": "jFSKfBE4-Dfs",
        "outputId": "0625238b-4b59-4104-c86d-d3727f628c84"
      },
      "outputs": [
        {
          "data": {
            "text/plain": [
              "['Avogadro',\n",
              " 'Boltzmann',\n",
              " 'Btu',\n",
              " 'Btu_IT',\n",
              " 'Btu_th',\n",
              " 'ConstantWarning',\n",
              " 'G',\n",
              " 'Julian_year',\n",
              " 'N_A',\n",
              " 'Planck',\n",
              " 'R',\n",
              " 'Rydberg',\n",
              " 'Stefan_Boltzmann',\n",
              " 'Wien',\n",
              " '__all__',\n",
              " '__builtins__',\n",
              " '__cached__',\n",
              " '__doc__',\n",
              " '__file__',\n",
              " '__loader__',\n",
              " '__name__',\n",
              " '__package__',\n",
              " '__path__',\n",
              " '__spec__',\n",
              " '_obsolete_constants',\n",
              " 'acre',\n",
              " 'alpha',\n",
              " 'angstrom',\n",
              " 'arcmin',\n",
              " 'arcminute',\n",
              " 'arcsec',\n",
              " 'arcsecond',\n",
              " 'astronomical_unit',\n",
              " 'atm',\n",
              " 'atmosphere',\n",
              " 'atomic_mass',\n",
              " 'atto',\n",
              " 'au',\n",
              " 'bar',\n",
              " 'barrel',\n",
              " 'bbl',\n",
              " 'blob',\n",
              " 'c',\n",
              " 'calorie',\n",
              " 'calorie_IT',\n",
              " 'calorie_th',\n",
              " 'carat',\n",
              " 'centi',\n",
              " 'codata',\n",
              " 'constants',\n",
              " 'convert_temperature',\n",
              " 'day',\n",
              " 'deci',\n",
              " 'degree',\n",
              " 'degree_Fahrenheit',\n",
              " 'deka',\n",
              " 'dyn',\n",
              " 'dyne',\n",
              " 'e',\n",
              " 'eV',\n",
              " 'electron_mass',\n",
              " 'electron_volt',\n",
              " 'elementary_charge',\n",
              " 'epsilon_0',\n",
              " 'erg',\n",
              " 'exa',\n",
              " 'exbi',\n",
              " 'femto',\n",
              " 'fermi',\n",
              " 'find',\n",
              " 'fine_structure',\n",
              " 'fluid_ounce',\n",
              " 'fluid_ounce_US',\n",
              " 'fluid_ounce_imp',\n",
              " 'foot',\n",
              " 'g',\n",
              " 'gallon',\n",
              " 'gallon_US',\n",
              " 'gallon_imp',\n",
              " 'gas_constant',\n",
              " 'gibi',\n",
              " 'giga',\n",
              " 'golden',\n",
              " 'golden_ratio',\n",
              " 'grain',\n",
              " 'gram',\n",
              " 'gravitational_constant',\n",
              " 'h',\n",
              " 'hbar',\n",
              " 'hectare',\n",
              " 'hecto',\n",
              " 'horsepower',\n",
              " 'hour',\n",
              " 'hp',\n",
              " 'inch',\n",
              " 'k',\n",
              " 'kgf',\n",
              " 'kibi',\n",
              " 'kilo',\n",
              " 'kilogram_force',\n",
              " 'kmh',\n",
              " 'knot',\n",
              " 'lambda2nu',\n",
              " 'lb',\n",
              " 'lbf',\n",
              " 'light_year',\n",
              " 'liter',\n",
              " 'litre',\n",
              " 'long_ton',\n",
              " 'm_e',\n",
              " 'm_n',\n",
              " 'm_p',\n",
              " 'm_u',\n",
              " 'mach',\n",
              " 'mebi',\n",
              " 'mega',\n",
              " 'metric_ton',\n",
              " 'micro',\n",
              " 'micron',\n",
              " 'mil',\n",
              " 'mile',\n",
              " 'milli',\n",
              " 'minute',\n",
              " 'mmHg',\n",
              " 'mph',\n",
              " 'mu_0',\n",
              " 'nano',\n",
              " 'nautical_mile',\n",
              " 'neutron_mass',\n",
              " 'nu2lambda',\n",
              " 'ounce',\n",
              " 'oz',\n",
              " 'parsec',\n",
              " 'pebi',\n",
              " 'peta',\n",
              " 'physical_constants',\n",
              " 'pi',\n",
              " 'pico',\n",
              " 'point',\n",
              " 'pound',\n",
              " 'pound_force',\n",
              " 'precision',\n",
              " 'proton_mass',\n",
              " 'psi',\n",
              " 'pt',\n",
              " 'short_ton',\n",
              " 'sigma',\n",
              " 'slinch',\n",
              " 'slug',\n",
              " 'speed_of_light',\n",
              " 'speed_of_sound',\n",
              " 'stone',\n",
              " 'survey_foot',\n",
              " 'survey_mile',\n",
              " 'tebi',\n",
              " 'tera',\n",
              " 'test',\n",
              " 'ton_TNT',\n",
              " 'torr',\n",
              " 'troy_ounce',\n",
              " 'troy_pound',\n",
              " 'u',\n",
              " 'unit',\n",
              " 'value',\n",
              " 'week',\n",
              " 'yard',\n",
              " 'year',\n",
              " 'yobi',\n",
              " 'yotta',\n",
              " 'zebi',\n",
              " 'zepto',\n",
              " 'zero_Celsius',\n",
              " 'zetta']"
            ]
          },
          "execution_count": 157,
          "metadata": {},
          "output_type": "execute_result"
        }
      ],
      "source": [
        "from scipy import constants\n",
        "dir(constants)"
      ]
    },
    {
      "cell_type": "code",
      "execution_count": null,
      "metadata": {
        "id": "8n1DM8Jp-Dfs",
        "outputId": "816992f5-564f-4d33-8b8f-e042b6899e54"
      },
      "outputs": [
        {
          "name": "stdout",
          "output_type": "stream",
          "text": [
            "[-27.]\n",
            "[0.]\n",
            "[7.]\n",
            "[0.]\n",
            "[-0.73908513]\n",
            "[0.]\n",
            "<function LinearEqnIn2Vars at 0x000002117B480A60>\n",
            "[6. 3.]\n",
            "[0.0, 0.0]\n"
          ]
        }
      ],
      "source": [
        "from scipy.optimize import root\n",
        "from math import cos\n",
        "\n",
        "def LinearEqn(x):\n",
        "  return x + 27\n",
        "\n",
        "def QuadraticEqn(x):\n",
        "  return x**2 -49\n",
        "\n",
        "def NonLinearEqn(x):\n",
        "  return x + cos(x)\n",
        "\n",
        "def LinearEqnIn2Vars(x):\n",
        "    f = [x[0] + x[1] - 9, x[0] - x[1] - 3]\n",
        "    return  f\n",
        "\n",
        "myroot = root(LinearEqn, 0)\n",
        "r  = myroot.x\n",
        "print(r)\n",
        "print(LinearEqn(r))\n",
        "\n",
        "myroot = root(QuadraticEqn, 0)\n",
        "r  = myroot.x\n",
        "print(r)\n",
        "print(QuadraticEqn(r))\n",
        "\n",
        "myroot = root(NonLinearEqn, 0)\n",
        "r  = myroot.x\n",
        "print(r)\n",
        "print(NonLinearEqn(r))\n",
        "\n",
        "print(LinearEqnIn2Vars)\n",
        "myroot = root(LinearEqnIn2Vars, [0,0])\n",
        "r  = myroot.x\n",
        "print(r)\n",
        "print(LinearEqnIn2Vars(r))"
      ]
    },
    {
      "cell_type": "code",
      "execution_count": null,
      "metadata": {
        "id": "dPbOSlXg-Dft",
        "outputId": "6048faa4-9f26-4525-f195-a577bd202ac5"
      },
      "outputs": [
        {
          "name": "stdout",
          "output_type": "stream",
          "text": [
            "Help on function root in module scipy.optimize._root:\n",
            "\n",
            "root(fun, x0, args=(), method='hybr', jac=None, tol=None, callback=None, options=None)\n",
            "    Find a root of a vector function.\n",
            "    \n",
            "    Parameters\n",
            "    ----------\n",
            "    fun : callable\n",
            "        A vector function to find a root of.\n",
            "    x0 : ndarray\n",
            "        Initial guess.\n",
            "    args : tuple, optional\n",
            "        Extra arguments passed to the objective function and its Jacobian.\n",
            "    method : str, optional\n",
            "        Type of solver. Should be one of\n",
            "    \n",
            "            - 'hybr'             :ref:`(see here) <optimize.root-hybr>`\n",
            "            - 'lm'               :ref:`(see here) <optimize.root-lm>`\n",
            "            - 'broyden1'         :ref:`(see here) <optimize.root-broyden1>`\n",
            "            - 'broyden2'         :ref:`(see here) <optimize.root-broyden2>`\n",
            "            - 'anderson'         :ref:`(see here) <optimize.root-anderson>`\n",
            "            - 'linearmixing'     :ref:`(see here) <optimize.root-linearmixing>`\n",
            "            - 'diagbroyden'      :ref:`(see here) <optimize.root-diagbroyden>`\n",
            "            - 'excitingmixing'   :ref:`(see here) <optimize.root-excitingmixing>`\n",
            "            - 'krylov'           :ref:`(see here) <optimize.root-krylov>`\n",
            "            - 'df-sane'          :ref:`(see here) <optimize.root-dfsane>`\n",
            "    \n",
            "    jac : bool or callable, optional\n",
            "        If `jac` is a Boolean and is True, `fun` is assumed to return the\n",
            "        value of Jacobian along with the objective function. If False, the\n",
            "        Jacobian will be estimated numerically.\n",
            "        `jac` can also be a callable returning the Jacobian of `fun`. In\n",
            "        this case, it must accept the same arguments as `fun`.\n",
            "    tol : float, optional\n",
            "        Tolerance for termination. For detailed control, use solver-specific\n",
            "        options.\n",
            "    callback : function, optional\n",
            "        Optional callback function. It is called on every iteration as\n",
            "        ``callback(x, f)`` where `x` is the current solution and `f`\n",
            "        the corresponding residual. For all methods but 'hybr' and 'lm'.\n",
            "    options : dict, optional\n",
            "        A dictionary of solver options. E.g., `xtol` or `maxiter`, see\n",
            "        :obj:`show_options()` for details.\n",
            "    \n",
            "    Returns\n",
            "    -------\n",
            "    sol : OptimizeResult\n",
            "        The solution represented as a ``OptimizeResult`` object.\n",
            "        Important attributes are: ``x`` the solution array, ``success`` a\n",
            "        Boolean flag indicating if the algorithm exited successfully and\n",
            "        ``message`` which describes the cause of the termination. See\n",
            "        `OptimizeResult` for a description of other attributes.\n",
            "    \n",
            "    See also\n",
            "    --------\n",
            "    show_options : Additional options accepted by the solvers\n",
            "    \n",
            "    Notes\n",
            "    -----\n",
            "    This section describes the available solvers that can be selected by the\n",
            "    'method' parameter. The default method is *hybr*.\n",
            "    \n",
            "    Method *hybr* uses a modification of the Powell hybrid method as\n",
            "    implemented in MINPACK [1]_.\n",
            "    \n",
            "    Method *lm* solves the system of nonlinear equations in a least squares\n",
            "    sense using a modification of the Levenberg-Marquardt algorithm as\n",
            "    implemented in MINPACK [1]_.\n",
            "    \n",
            "    Method *df-sane* is a derivative-free spectral method. [3]_\n",
            "    \n",
            "    Methods *broyden1*, *broyden2*, *anderson*, *linearmixing*,\n",
            "    *diagbroyden*, *excitingmixing*, *krylov* are inexact Newton methods,\n",
            "    with backtracking or full line searches [2]_. Each method corresponds\n",
            "    to a particular Jacobian approximations. See `nonlin` for details.\n",
            "    \n",
            "    - Method *broyden1* uses Broyden's first Jacobian approximation, it is\n",
            "      known as Broyden's good method.\n",
            "    - Method *broyden2* uses Broyden's second Jacobian approximation, it\n",
            "      is known as Broyden's bad method.\n",
            "    - Method *anderson* uses (extended) Anderson mixing.\n",
            "    - Method *Krylov* uses Krylov approximation for inverse Jacobian. It\n",
            "      is suitable for large-scale problem.\n",
            "    - Method *diagbroyden* uses diagonal Broyden Jacobian approximation.\n",
            "    - Method *linearmixing* uses a scalar Jacobian approximation.\n",
            "    - Method *excitingmixing* uses a tuned diagonal Jacobian\n",
            "      approximation.\n",
            "    \n",
            "    .. warning::\n",
            "    \n",
            "        The algorithms implemented for methods *diagbroyden*,\n",
            "        *linearmixing* and *excitingmixing* may be useful for specific\n",
            "        problems, but whether they will work may depend strongly on the\n",
            "        problem.\n",
            "    \n",
            "    .. versionadded:: 0.11.0\n",
            "    \n",
            "    References\n",
            "    ----------\n",
            "    .. [1] More, Jorge J., Burton S. Garbow, and Kenneth E. Hillstrom.\n",
            "       1980. User Guide for MINPACK-1.\n",
            "    .. [2] C. T. Kelley. 1995. Iterative Methods for Linear and Nonlinear\n",
            "       Equations. Society for Industrial and Applied Mathematics.\n",
            "       <https://archive.siam.org/books/kelley/fr16/>\n",
            "    .. [3] W. La Cruz, J.M. Martinez, M. Raydan. Math. Comp. 75, 1429 (2006).\n",
            "    \n",
            "    Examples\n",
            "    --------\n",
            "    The following functions define a system of nonlinear equations and its\n",
            "    jacobian.\n",
            "    \n",
            "    >>> def fun(x):\n",
            "    ...     return [x[0]  + 0.5 * (x[0] - x[1])**3 - 1.0,\n",
            "    ...             0.5 * (x[1] - x[0])**3 + x[1]]\n",
            "    \n",
            "    >>> def jac(x):\n",
            "    ...     return np.array([[1 + 1.5 * (x[0] - x[1])**2,\n",
            "    ...                       -1.5 * (x[0] - x[1])**2],\n",
            "    ...                      [-1.5 * (x[1] - x[0])**2,\n",
            "    ...                       1 + 1.5 * (x[1] - x[0])**2]])\n",
            "    \n",
            "    A solution can be obtained as follows.\n",
            "    \n",
            "    >>> from scipy import optimize\n",
            "    >>> sol = optimize.root(fun, [0, 0], jac=jac, method='hybr')\n",
            "    >>> sol.x\n",
            "    array([ 0.8411639,  0.1588361])\n",
            "\n"
          ]
        }
      ],
      "source": [
        "import scipy\n",
        "help(root)"
      ]
    },
    {
      "cell_type": "code",
      "execution_count": null,
      "metadata": {
        "id": "R6Anou6U-Dft"
      },
      "outputs": [],
      "source": [
        "#exercises - Find the roots for the following equations\n",
        "#univariate with degree 2 & 3\n",
        "#1.  5x**2 + 3*x - 9 =0 \n",
        "#2.  3x**3 + 2*x**2 + 6x - 11 =0 \n",
        "#Non-linear univariate\n",
        "#3. e**(-x) = sinx"
      ]
    },
    {
      "cell_type": "code",
      "execution_count": null,
      "metadata": {
        "id": "3RDvBTNL-Dfu",
        "outputId": "1fbe9fab-693b-4628-cbe2-60e9601514da"
      },
      "outputs": [
        {
          "name": "stdout",
          "output_type": "stream",
          "text": [
            "[1.07477271]\n",
            "[-1.19015908e-13]\n"
          ]
        }
      ],
      "source": [
        "def Quad(x):\n",
        "  return 5*x**2 + 3*x - 9\n",
        "\n",
        "myroot = root(Quad, 0)\n",
        "r  = myroot.x\n",
        "print(r)\n",
        "print(Quad(r))"
      ]
    },
    {
      "cell_type": "code",
      "execution_count": null,
      "metadata": {
        "id": "enrc4KIe-Dfu",
        "outputId": "68f5f6bd-f7fc-4552-a87d-acf2fc6f2d08"
      },
      "outputs": [
        {
          "name": "stdout",
          "output_type": "stream",
          "text": [
            "[1.]\n",
            "[0.]\n"
          ]
        }
      ],
      "source": [
        "def Cubic(x):\n",
        "  return 3*x**3 + 2*x**2 + 6*x - 11\n",
        "\n",
        "myroot = root(Cubic, 0)\n",
        "r  = myroot.x\n",
        "print(r)\n",
        "print(Cubic(r))"
      ]
    },
    {
      "cell_type": "code",
      "execution_count": null,
      "metadata": {
        "id": "8Lgtyd8a-Dfv",
        "outputId": "93e4fca3-cf1e-4a0a-9423-524d11c5d2ef"
      },
      "outputs": [
        {
          "name": "stdout",
          "output_type": "stream",
          "text": [
            "[0.58853274]\n",
            "1.2212453270876722e-15\n"
          ]
        }
      ],
      "source": [
        "def expEqn(x):\n",
        "  return math.exp(-x) - math.sin(x)\n",
        "\n",
        "myroot = root(expEqn, 0)\n",
        "r  = myroot.x\n",
        "print(r)\n",
        "print(expEqn(r))"
      ]
    },
    {
      "cell_type": "markdown",
      "metadata": {
        "id": "GI-kEYy6-Dfw"
      },
      "source": [
        "# Matplotlib\n",
        "https://matplotlib.org/\n",
        "https://www.w3schools.com/python/matplotlib_intro.asp"
      ]
    },
    {
      "cell_type": "code",
      "execution_count": 1,
      "metadata": {
        "colab": {
          "base_uri": "https://localhost:8080/",
          "height": 265
        },
        "id": "TehQtQ5Y-Dfx",
        "outputId": "b437c9f8-b01a-4c87-8da6-c4175427c165"
      },
      "outputs": [
        {
          "output_type": "display_data",
          "data": {
            "text/plain": [
              "<Figure size 432x288 with 1 Axes>"
            ],
            "image/png": "[encoded data removed]"
          },
          "metadata": {
            "needs_background": "light"
          }
        }
      ],
      "source": [
        "import numpy as np\n",
        "import matplotlib.pyplot as plt\n",
        "%matplotlib inline\n",
        "\n",
        "x = [-5,-2,0,1,3]\n",
        "y = [2,-1,1,-4,3]\n",
        "plt.plot(x,y)\n",
        "plt.show()"
      ]
    },
    {
      "cell_type": "code",
      "execution_count": 2,
      "metadata": {
        "colab": {
          "base_uri": "https://localhost:8080/",
          "height": 265
        },
        "id": "gxKxzxWF-Dfx",
        "outputId": "a0f2d098-aa1f-4a9d-86f6-cb0d76b8986d"
      },
      "outputs": [
        {
          "output_type": "display_data",
          "data": {
            "text/plain": [
              "<Figure size 432x288 with 1 Axes>"
            ],
            "image/png": "[encoded data removed]"
          },
          "metadata": {
            "needs_background": "light"
          }
        }
      ],
      "source": [
        "x = np.linspace(-3, 3, 50)\n",
        "y = x**2\n",
        "plt.plot(x,y,alpha=0.4,label='Quadratic function',\n",
        "         color='red',linestyle='dashed',linewidth=2,\n",
        "         marker='o',markersize=5,markerfacecolor='blue',\n",
        "         markeredgecolor='blue')\n",
        "plt.legend()\n",
        "plt.show()"
      ]
    },
    {
      "cell_type": "code",
      "execution_count": 3,
      "metadata": {
        "colab": {
          "base_uri": "https://localhost:8080/"
        },
        "id": "uZt5pzdw-Dfy",
        "outputId": "d1cef9df-5ac4-42ff-a6d3-8290fa415089"
      },
      "outputs": [
        {
          "output_type": "stream",
          "name": "stdout",
          "text": [
            "Help on function plot in module matplotlib.pyplot:\n",
            "\n",
            "plot(*args, scalex=True, scaley=True, data=None, **kwargs)\n",
            "    Plot y versus x as lines and/or markers.\n",
            "    \n",
            "    Call signatures::\n",
            "    \n",
            "        plot([x], y, [fmt], *, data=None, **kwargs)\n",
            "        plot([x], y, [fmt], [x2], y2, [fmt2], ..., **kwargs)\n",
            "    \n",
            "    The coordinates of the points or line nodes are given by *x*, *y*.\n",
            "    \n",
            "    The optional parameter *fmt* is a convenient way for defining basic\n",
            "    formatting like color, marker and linestyle. It's a shortcut string\n",
            "    notation described in the *Notes* section below.\n",
            "    \n",
            "    >>> plot(x, y)        # plot x and y using default line style and color\n",
            "    >>> plot(x, y, 'bo')  # plot x and y using blue circle markers\n",
            "    >>> plot(y)           # plot y using x as index array 0..N-1\n",
            "    >>> plot(y, 'r+')     # ditto, but with red plusses\n",
            "    \n",
            "    You can use `.Line2D` properties as keyword arguments for more\n",
            "    control on the appearance. Line properties and *fmt* can be mixed.\n",
            "    The following two calls yield identical results:\n",
            "    \n",
            "    >>> plot(x, y, 'go--', linewidth=2, markersize=12)\n",
            "    >>> plot(x, y, color='green', marker='o', linestyle='dashed',\n",
            "    ...      linewidth=2, markersize=12)\n",
            "    \n",
            "    When conflicting with *fmt*, keyword arguments take precedence.\n",
            "    \n",
            "    \n",
            "    **Plotting labelled data**\n",
            "    \n",
            "    There's a convenient way for plotting objects with labelled data (i.e.\n",
            "    data that can be accessed by index ``obj['y']``). Instead of giving\n",
            "    the data in *x* and *y*, you can provide the object in the *data*\n",
            "    parameter and just give the labels for *x* and *y*::\n",
            "    \n",
            "    >>> plot('xlabel', 'ylabel', data=obj)\n",
            "    \n",
            "    All indexable objects are supported. This could e.g. be a `dict`, a\n",
            "    `pandas.DataFame` or a structured numpy array.\n",
            "    \n",
            "    \n",
            "    **Plotting multiple sets of data**\n",
            "    \n",
            "    There are various ways to plot multiple sets of data.\n",
            "    \n",
            "    - The most straight forward way is just to call `plot` multiple times.\n",
            "      Example:\n",
            "    \n",
            "      >>> plot(x1, y1, 'bo')\n",
            "      >>> plot(x2, y2, 'go')\n",
            "    \n",
            "    - Alternatively, if your data is already a 2d array, you can pass it\n",
            "      directly to *x*, *y*. A separate data set will be drawn for every\n",
            "      column.\n",
            "    \n",
            "      Example: an array ``a`` where the first column represents the *x*\n",
            "      values and the other columns are the *y* columns::\n",
            "    \n",
            "      >>> plot(a[0], a[1:])\n",
            "    \n",
            "    - The third way is to specify multiple sets of *[x]*, *y*, *[fmt]*\n",
            "      groups::\n",
            "    \n",
            "      >>> plot(x1, y1, 'g^', x2, y2, 'g-')\n",
            "    \n",
            "      In this case, any additional keyword argument applies to all\n",
            "      datasets. Also this syntax cannot be combined with the *data*\n",
            "      parameter.\n",
            "    \n",
            "    By default, each line is assigned a different style specified by a\n",
            "    'style cycle'. The *fmt* and line property parameters are only\n",
            "    necessary if you want explicit deviations from these defaults.\n",
            "    Alternatively, you can also change the style cycle using\n",
            "    :rc:`axes.prop_cycle`.\n",
            "    \n",
            "    \n",
            "    Parameters\n",
            "    ----------\n",
            "    x, y : array-like or scalar\n",
            "        The horizontal / vertical coordinates of the data points.\n",
            "        *x* values are optional and default to `range(len(y))`.\n",
            "    \n",
            "        Commonly, these parameters are 1D arrays.\n",
            "    \n",
            "        They can also be scalars, or two-dimensional (in that case, the\n",
            "        columns represent separate data sets).\n",
            "    \n",
            "        These arguments cannot be passed as keywords.\n",
            "    \n",
            "    fmt : str, optional\n",
            "        A format string, e.g. 'ro' for red circles. See the *Notes*\n",
            "        section for a full description of the format strings.\n",
            "    \n",
            "        Format strings are just an abbreviation for quickly setting\n",
            "        basic line properties. All of these and more can also be\n",
            "        controlled by keyword arguments.\n",
            "    \n",
            "        This argument cannot be passed as keyword.\n",
            "    \n",
            "    data : indexable object, optional\n",
            "        An object with labelled data. If given, provide the label names to\n",
            "        plot in *x* and *y*.\n",
            "    \n",
            "        .. note::\n",
            "            Technically there's a slight ambiguity in calls where the\n",
            "            second label is a valid *fmt*. `plot('n', 'o', data=obj)`\n",
            "            could be `plt(x, y)` or `plt(y, fmt)`. In such cases,\n",
            "            the former interpretation is chosen, but a warning is issued.\n",
            "            You may suppress the warning by adding an empty format string\n",
            "            `plot('n', 'o', '', data=obj)`.\n",
            "    \n",
            "    Other Parameters\n",
            "    ----------------\n",
            "    scalex, scaley : bool, optional, default: True\n",
            "        These parameters determined if the view limits are adapted to\n",
            "        the data limits. The values are passed on to `autoscale_view`.\n",
            "    \n",
            "    **kwargs : `.Line2D` properties, optional\n",
            "        *kwargs* are used to specify properties like a line label (for\n",
            "        auto legends), linewidth, antialiasing, marker face color.\n",
            "        Example::\n",
            "    \n",
            "        >>> plot([1, 2, 3], [1, 2, 3], 'go-', label='line 1', linewidth=2)\n",
            "        >>> plot([1, 2, 3], [1, 4, 9], 'rs', label='line 2')\n",
            "    \n",
            "        If you make multiple lines with one plot command, the kwargs\n",
            "        apply to all those lines.\n",
            "    \n",
            "        Here is a list of available `.Line2D` properties:\n",
            "    \n",
            "        Properties:\n",
            "        agg_filter: a filter function, which takes a (m, n, 3) float array and a dpi value, and returns a (m, n, 3) array\n",
            "        alpha: float or None\n",
            "        animated: bool\n",
            "        antialiased or aa: bool\n",
            "        clip_box: `.Bbox`\n",
            "        clip_on: bool\n",
            "        clip_path: Patch or (Path, Transform) or None\n",
            "        color or c: color\n",
            "        contains: callable\n",
            "        dash_capstyle: {'butt', 'round', 'projecting'}\n",
            "        dash_joinstyle: {'miter', 'round', 'bevel'}\n",
            "        dashes: sequence of floats (on/off ink in points) or (None, None)\n",
            "        data: (2, N) array or two 1D arrays\n",
            "        drawstyle or ds: {'default', 'steps', 'steps-pre', 'steps-mid', 'steps-post'}, default: 'default'\n",
            "        figure: `.Figure`\n",
            "        fillstyle: {'full', 'left', 'right', 'bottom', 'top', 'none'}\n",
            "        gid: str\n",
            "        in_layout: bool\n",
            "        label: object\n",
            "        linestyle or ls: {'-', '--', '-.', ':', '', (offset, on-off-seq), ...}\n",
            "        linewidth or lw: float\n",
            "        marker: marker style\n",
            "        markeredgecolor or mec: color\n",
            "        markeredgewidth or mew: float\n",
            "        markerfacecolor or mfc: color\n",
            "        markerfacecoloralt or mfcalt: color\n",
            "        markersize or ms: float\n",
            "        markevery: None or int or (int, int) or slice or List[int] or float or (float, float)\n",
            "        path_effects: `.AbstractPathEffect`\n",
            "        picker: float or callable[[Artist, Event], Tuple[bool, dict]]\n",
            "        pickradius: float\n",
            "        rasterized: bool or None\n",
            "        sketch_params: (scale: float, length: float, randomness: float)\n",
            "        snap: bool or None\n",
            "        solid_capstyle: {'butt', 'round', 'projecting'}\n",
            "        solid_joinstyle: {'miter', 'round', 'bevel'}\n",
            "        transform: `matplotlib.transforms.Transform`\n",
            "        url: str\n",
            "        visible: bool\n",
            "        xdata: 1D array\n",
            "        ydata: 1D array\n",
            "        zorder: float\n",
            "    \n",
            "    Returns\n",
            "    -------\n",
            "    lines\n",
            "        A list of `.Line2D` objects representing the plotted data.\n",
            "    \n",
            "    See Also\n",
            "    --------\n",
            "    scatter : XY scatter plot with markers of varying size and/or color (\n",
            "        sometimes also called bubble chart).\n",
            "    \n",
            "    Notes\n",
            "    -----\n",
            "    **Format Strings**\n",
            "    \n",
            "    A format string consists of a part for color, marker and line::\n",
            "    \n",
            "        fmt = '[marker][line][color]'\n",
            "    \n",
            "    Each of them is optional. If not provided, the value from the style\n",
            "    cycle is used. Exception: If ``line`` is given, but no ``marker``,\n",
            "    the data will be a line without markers.\n",
            "    \n",
            "    Other combinations such as ``[color][marker][line]`` are also\n",
            "    supported, but note that their parsing may be ambiguous.\n",
            "    \n",
            "    **Markers**\n",
            "    \n",
            "    =============    ===============================\n",
            "    character        description\n",
            "    =============    ===============================\n",
            "    ``'.'``          point marker\n",
            "    ``','``          pixel marker\n",
            "    ``'o'``          circle marker\n",
            "    ``'v'``          triangle_down marker\n",
            "    ``'^'``          triangle_up marker\n",
            "    ``'<'``          triangle_left marker\n",
            "    ``'>'``          triangle_right marker\n",
            "    ``'1'``          tri_down marker\n",
            "    ``'2'``          tri_up marker\n",
            "    ``'3'``          tri_left marker\n",
            "    ``'4'``          tri_right marker\n",
            "    ``'s'``          square marker\n",
            "    ``'p'``          pentagon marker\n",
            "    ``'*'``          star marker\n",
            "    ``'h'``          hexagon1 marker\n",
            "    ``'H'``          hexagon2 marker\n",
            "    ``'+'``          plus marker\n",
            "    ``'x'``          x marker\n",
            "    ``'D'``          diamond marker\n",
            "    ``'d'``          thin_diamond marker\n",
            "    ``'|'``          vline marker\n",
            "    ``'_'``          hline marker\n",
            "    =============    ===============================\n",
            "    \n",
            "    **Line Styles**\n",
            "    \n",
            "    =============    ===============================\n",
            "    character        description\n",
            "    =============    ===============================\n",
            "    ``'-'``          solid line style\n",
            "    ``'--'``         dashed line style\n",
            "    ``'-.'``         dash-dot line style\n",
            "    ``':'``          dotted line style\n",
            "    =============    ===============================\n",
            "    \n",
            "    Example format strings::\n",
            "    \n",
            "        'b'    # blue markers with default shape\n",
            "        'or'   # red circles\n",
            "        '-g'   # green solid line\n",
            "        '--'   # dashed line with default color\n",
            "        '^k:'  # black triangle_up markers connected by a dotted line\n",
            "    \n",
            "    **Colors**\n",
            "    \n",
            "    The supported color abbreviations are the single letter codes\n",
            "    \n",
            "    =============    ===============================\n",
            "    character        color\n",
            "    =============    ===============================\n",
            "    ``'b'``          blue\n",
            "    ``'g'``          green\n",
            "    ``'r'``          red\n",
            "    ``'c'``          cyan\n",
            "    ``'m'``          magenta\n",
            "    ``'y'``          yellow\n",
            "    ``'k'``          black\n",
            "    ``'w'``          white\n",
            "    =============    ===============================\n",
            "    \n",
            "    and the ``'CN'`` colors that index into the default property cycle.\n",
            "    \n",
            "    If the color is the only part of the format string, you can\n",
            "    additionally use any  `matplotlib.colors` spec, e.g. full names\n",
            "    (``'green'``) or hex strings (``'#008000'``).\n",
            "\n"
          ]
        }
      ],
      "source": [
        "help(plt.plot)"
      ]
    },
    {
      "cell_type": "code",
      "execution_count": 4,
      "metadata": {
        "id": "iQXqTJTi-Dfz"
      },
      "outputs": [],
      "source": [
        "#EXercise\n",
        "#1. Draw plot for 1/(1+x**2) for the input range (-5,5)\n",
        "\n",
        "#2. Plot the following butterfly curve\n",
        "# x = sin(t) * ( e**(cos(t)- 2*cos(4*t) - (sin(t/12))**5 )\n",
        "# y = sin(t) * ( e**(cos(t)- 2*cos(4*t) - (sin(t/12))**5 )\n",
        "# t in [0, 100]"
      ]
    },
    {
      "cell_type": "code",
      "execution_count": 5,
      "metadata": {
        "colab": {
          "base_uri": "https://localhost:8080/",
          "height": 265
        },
        "id": "RIEJvynU-Dfz",
        "outputId": "d6847926-9549-4075-dde7-5b771180d8d6"
      },
      "outputs": [
        {
          "output_type": "display_data",
          "data": {
            "text/plain": [
              "<Figure size 432x288 with 1 Axes>"
            ],
            "image/png": "[encoded data removed]"
          },
          "metadata": {
            "needs_background": "light"
          }
        }
      ],
      "source": [
        "x = np.linspace(-5, 5, 100)\n",
        "y = 1/(1 + x**2)\n",
        "plt.plot(x,y,alpha=0.4,label='Bell curve',\n",
        "         color='red',linestyle='dashed',linewidth=2,\n",
        "         marker='o',markersize=5,markerfacecolor='blue',\n",
        "         markeredgecolor='blue')\n",
        "plt.legend()\n",
        "plt.show()"
      ]
    },
    {
      "cell_type": "code",
      "execution_count": 6,
      "metadata": {
        "colab": {
          "base_uri": "https://localhost:8080/",
          "height": 265
        },
        "id": "A-rxNaRT-Df0",
        "outputId": "43065f81-5e2c-48f8-d0c5-68df54dd05f2"
      },
      "outputs": [
        {
          "output_type": "display_data",
          "data": {
            "text/plain": [
              "<Figure size 432x288 with 1 Axes>"
            ],
            "image/png": "[encoded data removed]"
          },
          "metadata": {
            "needs_background": "light"
          }
        }
      ],
      "source": [
        "t = np.arange(0, 101, 1)\n",
        "x = np.sin(t) * ( np.exp(np.cos(t))- 2*np.cos(4*t) - (np.sin(t/12))**5 )\n",
        "y = np.cos(t) * ( np.exp(np.cos(t))- 2*np.cos(4*t) - (np.sin(t/12))**5 )\n",
        "                   \n",
        "plt.plot(x,y,alpha=0.4,label='Butterfly function',\n",
        "         color='red',linestyle='dashed',linewidth=2,\n",
        "         marker='o',markersize=5,markerfacecolor='blue',\n",
        "         markeredgecolor='blue')\n",
        "plt.legend()\n",
        "plt.show()"
      ]
    },
    {
      "cell_type": "code",
      "execution_count": 6,
      "metadata": {
        "id": "5MoCBzY7-Df0"
      },
      "outputs": [],
      "source": []
    }
  ],
  "metadata": {
    "kernelspec": {
      "display_name": "Python 3 (ipykernel)",
      "language": "python",
      "name": "python3"
    },
    "language_info": {
      "codemirror_mode": {
        "name": "ipython",
        "version": 3
      },
      "file_extension": ".py",
      "mimetype": "text/x-python",
      "name": "python",
      "nbconvert_exporter": "python",
      "pygments_lexer": "ipython3",
      "version": "3.9.7"
    },
    "colab": {
      "provenance": [],
      "include_colab_link": true
    }
  },
  "nbformat": 4,
  "nbformat_minor": 0
}