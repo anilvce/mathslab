{
  "cells": [
    {
      "cell_type": "markdown",
      "metadata": {
        "id": "view-in-github",
        "colab_type": "text"
      },
      "source": [
        "<a href=\"https://colab.research.google.com/github/anilvce/mathslab/blob/main/Exp_5_EigenVector_Matrix.ipynb\" target=\"_parent\"><img src=\"https://colab.research.google.com/assets/colab-badge.svg\" alt=\"Open In Colab\"/></a>"
      ]
    },
    {
      "cell_type": "code",
      "execution_count": null,
      "metadata": {
        "colab": {
          "base_uri": "https://localhost:8080/"
        },
        "id": "5AyT_oCl9CDK",
        "outputId": "b37164e7-a363-4a1c-bd5a-60468667a007"
      },
      "outputs": [
        {
          "output_type": "stream",
          "name": "stdout",
          "text": [
            "[[1 2]\n",
            " [2 3]]\n",
            "[-0.23606798+0.j  4.23606798+0.j]\n",
            "[[-0.85065081 -0.52573111]\n",
            " [ 0.52573111 -0.85065081]]\n"
          ]
        }
      ],
      "source": [
        "import numpy as np\n",
        "from scipy import linalg\n",
        "\n",
        "m = 4\n",
        "n = 4\n",
        "\n",
        "A = np.random.standard_exponential(size=(m,n))\n",
        "\n",
        "A=np.array([[1,2],[2,3]])\n",
        "print(A)\n",
        "lam, V = linalg.eig(A)\n",
        "\n",
        "print(lam)\n",
        "print(V)"
      ]
    },
    {
      "cell_type": "code",
      "source": [
        "ainv=linalg.inv(A)\n",
        "lam1,V1=linalg.eig(ainv)\n",
        "print(lam1)\n",
        "print(V1)\n",
        "if (lam==lam1).all():\n",
        "  print(\" equal\")\n",
        "else:\n",
        "  print(\"not Equal\")"
      ],
      "metadata": {
        "colab": {
          "base_uri": "https://localhost:8080/"
        },
        "id": "od1akiEJ1SJV",
        "outputId": "e41599f8-d2f3-4665-d2e7-c4420bd2cde7"
      },
      "execution_count": null,
      "outputs": [
        {
          "output_type": "stream",
          "name": "stdout",
          "text": [
            "[-4.23606798+0.j  0.23606798+0.j]\n",
            "[[-0.85065081 -0.52573111]\n",
            " [ 0.52573111 -0.85065081]]\n",
            "not Equal\n"
          ]
        }
      ]
    },
    {
      "cell_type": "markdown",
      "metadata": {
        "id": "xiyXkXYR9CDR"
      },
      "source": [
        "### EigenVector Decomposition\n",
        "###### A (nonzero) vector v of dimension N is an eigenvector of a square N × N matrix A if it satisfies a linear equation of the form\n",
        "\n",
        "###### Av  = Lambda*v\n",
        "\n",
        "###### for some scalar λ. Then λ is called the eigenvalue corresponding to v. Geometrically speaking, the eigenvectors of A are the vectors that A merely elongates or shrinks, and the amount that they elongate/shrink by is the eigenvalue. The above equation is called the eigenvalue equation or the eigenvalue problem."
      ]
    },
    {
      "cell_type": "code",
      "execution_count": null,
      "metadata": {
        "scrolled": true,
        "colab": {
          "base_uri": "https://localhost:8080/"
        },
        "id": "d1zZ2-Uz9CDU",
        "outputId": "dbdb1fcb-aae6-43e2-d0dc-82707d13960e"
      },
      "outputs": [
        {
          "output_type": "stream",
          "name": "stdout",
          "text": [
            "[[ 0.20081142 -2.22703273]\n",
            " [-0.12410828 -3.60341465]]\n",
            "[[ 0.20081142-0.j -2.22703273+0.j]\n",
            " [-0.12410828+0.j -3.60341465+0.j]]\n"
          ]
        }
      ],
      "source": [
        "print(A.dot(V))\n",
        "print(lam * V )"
      ]
    },
    {
      "cell_type": "code",
      "execution_count": null,
      "metadata": {
        "colab": {
          "base_uri": "https://localhost:8080/"
        },
        "id": "ePdjIxXu9CDW",
        "outputId": "46d8745e-14bf-480e-d8c6-f9bf97486c90"
      },
      "outputs": [
        {
          "output_type": "stream",
          "name": "stdout",
          "text": [
            "7.260351408704585e-16\n"
          ]
        }
      ],
      "source": [
        "print(linalg.norm(A.dot(V) - lam*V))"
      ]
    },
    {
      "cell_type": "code",
      "execution_count": null,
      "metadata": {
        "colab": {
          "base_uri": "https://localhost:8080/"
        },
        "id": "Yr5gbFfT9CDY",
        "outputId": "f6b05c10-3d6b-4cea-a53d-1efbc45614e6"
      },
      "outputs": [
        {
          "output_type": "stream",
          "name": "stdout",
          "text": [
            "[[1.+0.j 2.+0.j]\n",
            " [2.+0.j 3.+0.j]]\n",
            "[[1 2]\n",
            " [2 3]]\n"
          ]
        }
      ],
      "source": [
        "# A @ V = lambda * V = V * Lambda \n",
        "# A = V*lambda @ V-inv\n",
        "\n",
        "m=n=2\n",
        "lambdaMatrix = np.zeros((m, n) , dtype=complex)\n",
        "lambdaInvMatrix = np.zeros((m, n), dtype=complex)\n",
        "for i in range(min(m, n)):\n",
        "    lambdaMatrix[i, i] = lam[i]\n",
        "    lambdaInvMatrix[i, i] = 1/lam[i]\n",
        "\n",
        "Vinv = linalg.inv(V)\n",
        "print( (V.dot(lambdaMatrix)).dot(Vinv) )\n",
        "\n",
        "print(A)"
      ]
    },
    {
      "cell_type": "code",
      "source": [],
      "metadata": {
        "id": "X7DnFLk71QZn"
      },
      "execution_count": null,
      "outputs": []
    },
    {
      "cell_type": "code",
      "execution_count": null,
      "metadata": {
        "id": "0IY1SyTH9CDZ",
        "outputId": "bfc28eff-1433-48b9-befc-12b5451f6825",
        "colab": {
          "base_uri": "https://localhost:8080/"
        }
      },
      "outputs": [
        {
          "output_type": "stream",
          "name": "stdout",
          "text": [
            "[[-3.+0.j  2.+0.j]\n",
            " [ 2.+0.j -1.+0.j]]\n",
            "[[-3.  2.]\n",
            " [ 2. -1.]]\n",
            "1.9641850382783467e-15\n"
          ]
        }
      ],
      "source": [
        "# A = V*lambda @ V-inv\n",
        "# Ainv = V * (Lambdainv) @ (V-inv)\n",
        "\n",
        "Vinv = linalg.inv(V)\n",
        "#print(Vinv)\n",
        "Ainv = V.dot(lambdaInvMatrix).dot(Vinv)\n",
        "print(Ainv)\n",
        "Ainvd = linalg.inv(A)\n",
        "print(Ainvd)\n",
        "\n",
        "print(linalg.norm(Ainv - Ainvd))"
      ]
    },
    {
      "cell_type": "code",
      "execution_count": null,
      "metadata": {
        "id": "h9GlvGG59CDa",
        "outputId": "58eb04d6-240a-4b01-90c5-2893710fad50",
        "colab": {
          "base_uri": "https://localhost:8080/"
        }
      },
      "outputs": [
        {
          "output_type": "stream",
          "name": "stdout",
          "text": [
            "Det:\n",
            "-1.0\n",
            "[-0.23606798+0.j  4.23606798+0.j]\n",
            "(-1.0000000000000004+0j)\n",
            "lambda Cumulative product:\n",
            "[-0.23606798+0.j -1.        +0.j]\n"
          ]
        }
      ],
      "source": [
        "# det(A) = multipy lambda values\n",
        "\n",
        "print(\"Det:\\n{}\".format(linalg.det(A)))\n",
        "print(lam)\n",
        "print(lam[0]*lam[1])\n",
        "print(\"lambda Cumulative product:\\n{}\".format(lam.cumprod()) )"
      ]
    },
    {
      "cell_type": "code",
      "execution_count": null,
      "metadata": {
        "id": "rXtZjzPH9CDb",
        "outputId": "1fc2190c-9e07-48ea-847d-a6802dd1e76e",
        "colab": {
          "base_uri": "https://localhost:8080/"
        }
      },
      "outputs": [
        {
          "output_type": "stream",
          "name": "stdout",
          "text": [
            "Trace:\n",
            "4\n",
            "lambda Cumulative sum:\n",
            "[-0.23606798+0.j  4.        +0.j]\n"
          ]
        }
      ],
      "source": [
        "# Trace(A) = sum lambda values\n",
        "print(\"Trace:\\n{}\".format(np.trace(A)))\n",
        "print(\"lambda Cumulative sum:\\n{}\".format(lam.cumsum()) )"
      ]
    },
    {
      "cell_type": "code",
      "execution_count": null,
      "metadata": {
        "id": "pTTBL7Si9CDd",
        "outputId": "37aa14cb-dff5-4414-9859-223920aa172d",
        "colab": {
          "base_uri": "https://localhost:8080/"
        }
      },
      "outputs": [
        {
          "output_type": "stream",
          "name": "stdout",
          "text": [
            "[[1 1]\n",
            " [0 1]]\n",
            "[1.+0.j 1.+0.j]\n",
            "[[ 1.00000000e+00 -1.00000000e+00]\n",
            " [ 0.00000000e+00  2.22044605e-16]]\n",
            "2.220446049250313e-16\n"
          ]
        }
      ],
      "source": [
        "D = np.array( [(1,1), (0,1)] )\n",
        "print(D)\n",
        "lamn, Vn = linalg.eig(D)\n",
        "print(lamn)\n",
        "print(Vn)\n",
        "print(linalg.norm(D.dot(Vn) - lamn*Vn))"
      ]
    },
    {
      "cell_type": "code",
      "source": [
        "arr=np.array([[1,1],[2,2]])\n",
        "print(linalg.norm(arr))\n",
        "import math\n",
        "print(math.sqrt(10))"
      ],
      "metadata": {
        "colab": {
          "base_uri": "https://localhost:8080/"
        },
        "id": "U5IYlgk_GU8o",
        "outputId": "8b10e890-30c5-4960-e81a-faa92f8c0968"
      },
      "execution_count": null,
      "outputs": [
        {
          "output_type": "stream",
          "name": "stdout",
          "text": [
            "3.1622776601683795\n",
            "3.1622776601683795\n"
          ]
        }
      ]
    },
    {
      "cell_type": "code",
      "execution_count": null,
      "metadata": {
        "id": "GuzXzIP39CDe",
        "colab": {
          "base_uri": "https://localhost:8080/",
          "height": 132
        },
        "outputId": "a2ef8854-e2ca-4fad-9aa9-06b148af7c2a"
      },
      "outputs": [
        {
          "output_type": "error",
          "ename": "SyntaxError",
          "evalue": "ignored",
          "traceback": [
            "\u001b[0;36m  File \u001b[0;32m\"<ipython-input-11-f950bf580230>\"\u001b[0;36m, line \u001b[0;32m5\u001b[0m\n\u001b[0;31m    random (3,3) matrix and its inverse matrix - verify the results\u001b[0m\n\u001b[0m                      ^\u001b[0m\n\u001b[0;31mSyntaxError\u001b[0m\u001b[0;31m:\u001b[0m invalid syntax\n"
          ]
        }
      ],
      "source": [
        "#Exercises\n",
        "#Compute eigenvectors and eigen values for any random (3,3) matrix\n",
        "#compute inverse for any random matrix using Eigen factorization and verify with inv() & pinv() methods.\n",
        "#Compute and compare eigenvectors and eigen values for any \n",
        "random (3,3) matrix and its inverse matrix - verify the results\n",
        "#Compute and compare eignevectors and eigne values for any real\n",
        " symmetric matrx and verify the results - eigen values are real \n",
        "#Compute eignevectors and eigne values for any real symmetric matrx - \n",
        "check eigen vectors are othogonal\n",
        "#verify matrix is not invertible if any one of its eigen value is zero.\n",
        "\n",
        "#Positive Definite Matrix - 1) symmetric, 2) all eigenvalues are positive, 3) all the subdeterminants are also positive\n",
        "#Read - https://towardsdatascience.com/decomposing-eigendecomposition-f68f48470830"
      ]
    },
    {
      "cell_type": "code",
      "source": [
        "import numpy as np\n",
        "import scipy\n",
        "import scipy.linalg as lin\n",
        "A=np.random.standard_exponential(size=(3,3))\n",
        "lam,V=lin.eig(A)\n",
        "print('A:\\n', A)\n",
        "b=lam\n",
        "c=V\n",
        "print('\\n lam=',b)\n",
        "print('\\n V=',c)\n",
        "Ainv=lin.inv(A)\n",
        "lam1,V1=lin.eig(Ainv)\n",
        "print('\\nAinv:\\n',Ainv)\n",
        "d=lam1\n",
        "e=V1\n",
        "print('\\n lam1=',d)\n",
        "print('\\n v1=',e)\n",
        "print('\\n v1 inverse', lin.inv(e))\n",
        "\n",
        "print(\"b.all=\",b.all())\n",
        "print(\"c.all=\",c.all())\n",
        "if(b==d).all():\n",
        "  print('\\nverfied')\n",
        "else:\n",
        "  print('\\nnot verified')\n",
        "if(e==c).all():\n",
        "  print('\\nverfied')\n",
        "else:\n",
        "  print('\\nnot verified')\n"
      ],
      "metadata": {
        "id": "K2aFs1YB6ytO"
      },
      "execution_count": null,
      "outputs": []
    },
    {
      "cell_type": "code",
      "source": [
        "arr=[]\n",
        "arr.append(10)\n",
        "arr.append(20)\n",
        "a1=np.array()\n"
      ],
      "metadata": {
        "id": "qQcoNWAUCCca"
      },
      "execution_count": null,
      "outputs": []
    },
    {
      "cell_type": "code",
      "source": [
        "import numpy as np\n",
        "import scipy\n",
        "import scipy.linalg as lin\n",
        "\n",
        "A=np.array([[12, -51, 4], [6,167,-68], [-4,24,-41]])\n",
        "Q=np.array([[6/7,-69/175,-58/175], [3/7, 158/175,6/175], [-2/7, 6/35, -33/35]])\n",
        "Qinv=lin.inv(Q)\n",
        "R=Qinv.dot(A)\n",
        "print(R)\n",
        "print(Q.dot(R))"
      ],
      "metadata": {
        "id": "IUhBHb2On0dZ"
      },
      "execution_count": null,
      "outputs": []
    }
  ],
  "metadata": {
    "kernelspec": {
      "display_name": "Python 3 (ipykernel)",
      "language": "python",
      "name": "python3"
    },
    "language_info": {
      "codemirror_mode": {
        "name": "ipython",
        "version": 3
      },
      "file_extension": ".py",
      "mimetype": "text/x-python",
      "name": "python",
      "nbconvert_exporter": "python",
      "pygments_lexer": "ipython3",
      "version": "3.9.7"
    },
    "colab": {
      "provenance": [],
      "include_colab_link": true
    }
  },
  "nbformat": 4,
  "nbformat_minor": 0
}