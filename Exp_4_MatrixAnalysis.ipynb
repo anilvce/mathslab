{
  "cells": [
    {
      "cell_type": "markdown",
      "metadata": {
        "id": "view-in-github",
        "colab_type": "text"
      },
      "source": [
        "<a href=\"https://colab.research.google.com/github/anilvce/mathslab/blob/main/Exp_4_MatrixAnalysis.ipynb\" target=\"_parent\"><img src=\"https://colab.research.google.com/assets/colab-badge.svg\" alt=\"Open In Colab\"/></a>"
      ]
    },
    {
      "cell_type": "code",
      "execution_count": null,
      "metadata": {
        "colab": {
          "base_uri": "https://localhost:8080/"
        },
        "id": "HOSfRqsr7LaX",
        "outputId": "9618cc26-fe50-4fd0-e8c2-1d4959419f67"
      },
      "outputs": [
        {
          "output_type": "stream",
          "name": "stdout",
          "text": [
            "[[ 2.24253843 -0.1558048   1.04788248 -2.904085  ]\n",
            " [-1.80920058 -0.83056545 -1.22512089  3.71392584]\n",
            " [ 0.21438937  1.12110024 -1.26053965 -0.00458271]\n",
            " [-0.22279174 -0.26515082  1.91690798 -1.34455515]]\n"
          ]
        }
      ],
      "source": [
        "import numpy as np\n",
        "import scipy.linalg as spylinalg\n",
        "\n",
        "a = np.random.normal(5, 1, size=(4,4))\n",
        "#a=np.array([1,2])\n",
        "ainv = spylinalg.inv(a)\n",
        "print(ainv)"
      ]
    },
    {
      "cell_type": "code",
      "execution_count": null,
      "metadata": {
        "colab": {
          "base_uri": "https://localhost:8080/"
        },
        "id": "MGUImeWK7Lat",
        "outputId": "cee429a5-b074-440f-c834-0d8e79a36a0b"
      },
      "outputs": [
        {
          "output_type": "stream",
          "name": "stdout",
          "text": [
            "[[ 1.00000000e+00  3.66565710e-16  1.33749521e-15  1.50286007e-15]\n",
            " [-6.64797503e-15  1.00000000e+00  2.76872386e-15  1.11957727e-15]\n",
            " [-4.09447677e-15  2.31806067e-16  1.00000000e+00  6.11841148e-15]\n",
            " [-4.95553734e-15  1.40757349e-15  3.29585669e-15  1.00000000e+00]]\n"
          ]
        }
      ],
      "source": [
        "print(a.dot(ainv))"
      ]
    },
    {
      "cell_type": "code",
      "execution_count": null,
      "metadata": {
        "colab": {
          "base_uri": "https://localhost:8080/"
        },
        "id": "n8tfuaxb7Laz",
        "outputId": "54691896-3e34-4959-e8a4-6510a45d918a"
      },
      "outputs": [
        {
          "output_type": "execute_result",
          "data": {
            "text/plain": [
              "array([[1., 0., 0., 0.],\n",
              "       [0., 1., 0., 0.],\n",
              "       [0., 0., 1., 0.],\n",
              "       [0., 0., 0., 1.]])"
            ]
          },
          "metadata": {},
          "execution_count": 3
        }
      ],
      "source": [
        "np.eye(4)"
      ]
    },
    {
      "cell_type": "code",
      "execution_count": null,
      "metadata": {
        "colab": {
          "base_uri": "https://localhost:8080/"
        },
        "id": "kw0_47m27La3",
        "outputId": "ee35df1e-d558-4747-edca-11037ed68525"
      },
      "outputs": [
        {
          "output_type": "stream",
          "name": "stdout",
          "text": [
            "-13.009684848947138\n"
          ]
        }
      ],
      "source": [
        "print(spylinalg.det(a))\n"
      ]
    },
    {
      "cell_type": "code",
      "execution_count": null,
      "metadata": {
        "colab": {
          "base_uri": "https://localhost:8080/"
        },
        "id": "aPdUbF0u7La6",
        "outputId": "f4511eaf-42c5-4a81-b415-c3c155184742"
      },
      "outputs": [
        {
          "output_type": "stream",
          "name": "stdout",
          "text": [
            "Help on function norm in module scipy.linalg.misc:\n",
            "\n",
            "norm(a, ord=None, axis=None, keepdims=False, check_finite=True)\n",
            "    Matrix or vector norm.\n",
            "    \n",
            "    This function is able to return one of seven different matrix norms,\n",
            "    or one of an infinite number of vector norms (described below), depending\n",
            "    on the value of the ``ord`` parameter.\n",
            "    \n",
            "    Parameters\n",
            "    ----------\n",
            "    a : (M,) or (M, N) array_like\n",
            "        Input array.  If `axis` is None, `a` must be 1-D or 2-D.\n",
            "    ord : {non-zero int, inf, -inf, 'fro'}, optional\n",
            "        Order of the norm (see table under ``Notes``). inf means numpy's\n",
            "        `inf` object\n",
            "    axis : {int, 2-tuple of ints, None}, optional\n",
            "        If `axis` is an integer, it specifies the axis of `a` along which to\n",
            "        compute the vector norms.  If `axis` is a 2-tuple, it specifies the\n",
            "        axes that hold 2-D matrices, and the matrix norms of these matrices\n",
            "        are computed.  If `axis` is None then either a vector norm (when `a`\n",
            "        is 1-D) or a matrix norm (when `a` is 2-D) is returned.\n",
            "    keepdims : bool, optional\n",
            "        If this is set to True, the axes which are normed over are left in the\n",
            "        result as dimensions with size one.  With this option the result will\n",
            "        broadcast correctly against the original `a`.\n",
            "    check_finite : bool, optional\n",
            "        Whether to check that the input matrix contains only finite numbers.\n",
            "        Disabling may give a performance gain, but may result in problems\n",
            "        (crashes, non-termination) if the inputs do contain infinities or NaNs.\n",
            "    \n",
            "    Returns\n",
            "    -------\n",
            "    n : float or ndarray\n",
            "        Norm of the matrix or vector(s).\n",
            "    \n",
            "    Notes\n",
            "    -----\n",
            "    For values of ``ord <= 0``, the result is, strictly speaking, not a\n",
            "    mathematical 'norm', but it may still be useful for various numerical\n",
            "    purposes.\n",
            "    \n",
            "    The following norms can be calculated:\n",
            "    \n",
            "    =====  ============================  ==========================\n",
            "    ord    norm for matrices             norm for vectors\n",
            "    =====  ============================  ==========================\n",
            "    None   Frobenius norm                2-norm\n",
            "    'fro'  Frobenius norm                --\n",
            "    inf    max(sum(abs(x), axis=1))      max(abs(x))\n",
            "    -inf   min(sum(abs(x), axis=1))      min(abs(x))\n",
            "    0      --                            sum(x != 0)\n",
            "    1      max(sum(abs(x), axis=0))      as below\n",
            "    -1     min(sum(abs(x), axis=0))      as below\n",
            "    2      2-norm (largest sing. value)  as below\n",
            "    -2     smallest singular value       as below\n",
            "    other  --                            sum(abs(x)**ord)**(1./ord)\n",
            "    =====  ============================  ==========================\n",
            "    \n",
            "    The Frobenius norm is given by [1]_:\n",
            "    \n",
            "        :math:`||A||_F = [\\sum_{i,j} abs(a_{i,j})^2]^{1/2}`\n",
            "    \n",
            "    The ``axis`` and ``keepdims`` arguments are passed directly to\n",
            "    ``numpy.linalg.norm`` and are only usable if they are supported\n",
            "    by the version of numpy in use.\n",
            "    \n",
            "    References\n",
            "    ----------\n",
            "    .. [1] G. H. Golub and C. F. Van Loan, *Matrix Computations*,\n",
            "           Baltimore, MD, Johns Hopkins University Press, 1985, pg. 15\n",
            "    \n",
            "    Examples\n",
            "    --------\n",
            "    >>> from scipy.linalg import norm\n",
            "    >>> a = np.arange(9) - 4.0\n",
            "    >>> a\n",
            "    array([-4., -3., -2., -1.,  0.,  1.,  2.,  3.,  4.])\n",
            "    >>> b = a.reshape((3, 3))\n",
            "    >>> b\n",
            "    array([[-4., -3., -2.],\n",
            "           [-1.,  0.,  1.],\n",
            "           [ 2.,  3.,  4.]])\n",
            "    \n",
            "    >>> norm(a)\n",
            "    7.745966692414834\n",
            "    >>> norm(b)\n",
            "    7.745966692414834\n",
            "    >>> norm(b, 'fro')\n",
            "    7.745966692414834\n",
            "    >>> norm(a, np.inf)\n",
            "    4\n",
            "    >>> norm(b, np.inf)\n",
            "    9\n",
            "    >>> norm(a, -np.inf)\n",
            "    0\n",
            "    >>> norm(b, -np.inf)\n",
            "    2\n",
            "    \n",
            "    >>> norm(a, 1)\n",
            "    20\n",
            "    >>> norm(b, 1)\n",
            "    7\n",
            "    >>> norm(a, -1)\n",
            "    -4.6566128774142013e-010\n",
            "    >>> norm(b, -1)\n",
            "    6\n",
            "    >>> norm(a, 2)\n",
            "    7.745966692414834\n",
            "    >>> norm(b, 2)\n",
            "    7.3484692283495345\n",
            "    \n",
            "    >>> norm(a, -2)\n",
            "    0\n",
            "    >>> norm(b, -2)\n",
            "    1.8570331885190563e-016\n",
            "    >>> norm(a, 3)\n",
            "    5.8480354764257312\n",
            "    >>> norm(a, -3)\n",
            "    0\n",
            "\n"
          ]
        }
      ],
      "source": [
        "spylinalg.norm(a)\n",
        "help(spylinalg.norm)"
      ]
    },
    {
      "cell_type": "code",
      "execution_count": null,
      "metadata": {
        "colab": {
          "base_uri": "https://localhost:8080/",
          "height": 306
        },
        "id": "rCzxrT717La9",
        "outputId": "de946db9-8123-4157-f37e-f2f2dab7c87a"
      },
      "outputs": [
        {
          "output_type": "error",
          "ename": "ValueError",
          "evalue": "ignored",
          "traceback": [
            "\u001b[0;31m---------------------------------------------------------------------------\u001b[0m",
            "\u001b[0;31mValueError\u001b[0m                                Traceback (most recent call last)",
            "\u001b[0;32m<ipython-input-10-f96c37b73d0c>\u001b[0m in \u001b[0;36m<module>\u001b[0;34m()\u001b[0m\n\u001b[1;32m      1\u001b[0m \u001b[0marect\u001b[0m \u001b[0;34m=\u001b[0m \u001b[0mnp\u001b[0m\u001b[0;34m.\u001b[0m\u001b[0mrandom\u001b[0m\u001b[0;34m.\u001b[0m\u001b[0mnormal\u001b[0m\u001b[0;34m(\u001b[0m\u001b[0;36m5\u001b[0m\u001b[0;34m,\u001b[0m \u001b[0;36m1\u001b[0m\u001b[0;34m,\u001b[0m \u001b[0msize\u001b[0m\u001b[0;34m=\u001b[0m\u001b[0;34m(\u001b[0m\u001b[0;36m4\u001b[0m\u001b[0;34m,\u001b[0m\u001b[0;36m3\u001b[0m\u001b[0;34m)\u001b[0m\u001b[0;34m)\u001b[0m\u001b[0;34m\u001b[0m\u001b[0;34m\u001b[0m\u001b[0m\n\u001b[0;32m----> 2\u001b[0;31m \u001b[0mprint\u001b[0m\u001b[0;34m(\u001b[0m\u001b[0mspylinalg\u001b[0m\u001b[0;34m.\u001b[0m\u001b[0minv\u001b[0m\u001b[0;34m(\u001b[0m\u001b[0marect\u001b[0m\u001b[0;34m)\u001b[0m\u001b[0;34m)\u001b[0m\u001b[0;34m\u001b[0m\u001b[0;34m\u001b[0m\u001b[0m\n\u001b[0m",
            "\u001b[0;32m/usr/local/lib/python3.7/dist-packages/scipy/linalg/basic.py\u001b[0m in \u001b[0;36minv\u001b[0;34m(a, overwrite_a, check_finite)\u001b[0m\n\u001b[1;32m    950\u001b[0m     \u001b[0ma1\u001b[0m \u001b[0;34m=\u001b[0m \u001b[0m_asarray_validated\u001b[0m\u001b[0;34m(\u001b[0m\u001b[0ma\u001b[0m\u001b[0;34m,\u001b[0m \u001b[0mcheck_finite\u001b[0m\u001b[0;34m=\u001b[0m\u001b[0mcheck_finite\u001b[0m\u001b[0;34m)\u001b[0m\u001b[0;34m\u001b[0m\u001b[0;34m\u001b[0m\u001b[0m\n\u001b[1;32m    951\u001b[0m     \u001b[0;32mif\u001b[0m \u001b[0mlen\u001b[0m\u001b[0;34m(\u001b[0m\u001b[0ma1\u001b[0m\u001b[0;34m.\u001b[0m\u001b[0mshape\u001b[0m\u001b[0;34m)\u001b[0m \u001b[0;34m!=\u001b[0m \u001b[0;36m2\u001b[0m \u001b[0;32mor\u001b[0m \u001b[0ma1\u001b[0m\u001b[0;34m.\u001b[0m\u001b[0mshape\u001b[0m\u001b[0;34m[\u001b[0m\u001b[0;36m0\u001b[0m\u001b[0;34m]\u001b[0m \u001b[0;34m!=\u001b[0m \u001b[0ma1\u001b[0m\u001b[0;34m.\u001b[0m\u001b[0mshape\u001b[0m\u001b[0;34m[\u001b[0m\u001b[0;36m1\u001b[0m\u001b[0;34m]\u001b[0m\u001b[0;34m:\u001b[0m\u001b[0;34m\u001b[0m\u001b[0;34m\u001b[0m\u001b[0m\n\u001b[0;32m--> 952\u001b[0;31m         \u001b[0;32mraise\u001b[0m \u001b[0mValueError\u001b[0m\u001b[0;34m(\u001b[0m\u001b[0;34m'expected square matrix'\u001b[0m\u001b[0;34m)\u001b[0m\u001b[0;34m\u001b[0m\u001b[0;34m\u001b[0m\u001b[0m\n\u001b[0m\u001b[1;32m    953\u001b[0m     \u001b[0moverwrite_a\u001b[0m \u001b[0;34m=\u001b[0m \u001b[0moverwrite_a\u001b[0m \u001b[0;32mor\u001b[0m \u001b[0m_datacopied\u001b[0m\u001b[0;34m(\u001b[0m\u001b[0ma1\u001b[0m\u001b[0;34m,\u001b[0m \u001b[0ma\u001b[0m\u001b[0;34m)\u001b[0m\u001b[0;34m\u001b[0m\u001b[0;34m\u001b[0m\u001b[0m\n\u001b[1;32m    954\u001b[0m     \u001b[0;31m# XXX: I found no advantage or disadvantage of using finv.\u001b[0m\u001b[0;34m\u001b[0m\u001b[0;34m\u001b[0m\u001b[0;34m\u001b[0m\u001b[0m\n",
            "\u001b[0;31mValueError\u001b[0m: expected square matrix"
          ]
        }
      ],
      "source": [
        "arect = np.random.normal(5, 1, size=(4,3))\n",
        "print(spylinalg.inv(arect))"
      ]
    },
    {
      "cell_type": "code",
      "execution_count": null,
      "metadata": {
        "colab": {
          "base_uri": "https://localhost:8080/"
        },
        "id": "eQJ5HgWg7La_",
        "outputId": "b96b9bd2-690f-4965-e0b8-8f68e6f3f8a5"
      },
      "outputs": [
        {
          "output_type": "stream",
          "name": "stdout",
          "text": [
            "[[ 0.26611937 -0.2344416  -0.66507178  0.52241548]\n",
            " [-0.25602456 -0.02085655  0.47412851 -0.02156166]\n",
            " [ 0.02226595  0.29939029  0.26924692 -0.45745819]]\n",
            "[[ 0.63273488  0.42194265 -0.17263401  0.15666317]\n",
            " [ 0.42194265  0.51523956  0.19833534 -0.1799868 ]\n",
            " [-0.17263401  0.19833534  0.91885289  0.07363997]\n",
            " [ 0.15666317 -0.1799868   0.07363997  0.93317267]]\n"
          ]
        }
      ],
      "source": [
        "arectinv = spylinalg.pinv(arect)\n",
        "print(arectinv)\n",
        "print(arect.dot(arectinv))"
      ]
    },
    {
      "cell_type": "code",
      "execution_count": null,
      "metadata": {
        "colab": {
          "base_uri": "https://localhost:8080/"
        },
        "id": "FXKOEHMS7LbB",
        "outputId": "a2f98404-96e2-487e-881c-f67cd805ab11"
      },
      "outputs": [
        {
          "output_type": "stream",
          "name": "stdout",
          "text": [
            "[[5.28084561 5.16122572 5.60005218 5.70043949]\n",
            " [5.99090008 5.79489638 4.50988412 5.58252978]\n",
            " [4.60874129 3.8412757  4.47377709 4.71468718]\n",
            " [5.30814038 5.66470582 4.45023101 5.18429288]]\n",
            "20.733811951743927\n"
          ]
        }
      ],
      "source": [
        "a = np.random.normal(5, 1, size=(4,4))\n",
        "print(a)\n",
        "print(np.trace(a))"
      ]
    },
    {
      "cell_type": "code",
      "execution_count": null,
      "metadata": {
        "id": "BK7hZ1qR7LbE"
      },
      "outputs": [],
      "source": [
        "#Exercises\n"
      ]
    },
    {
      "cell_type": "code",
      "execution_count": null,
      "metadata": {
        "id": "kiGO0M8g7LbH"
      },
      "outputs": [],
      "source": [
        "# A Aiv = Ainv A =1\n",
        "# (A.inv).inv = A\n",
        "# (AB).inv = B.inv A.inv\n",
        "# (A.T).inv = (A.inv).T\n",
        "#(k * A.inv) = 1/k * A.inv  ; k - scalar\n",
        "# pick some properties related to determinant, Trace & Rank"
      ]
    },
    {
      "cell_type": "code",
      "source": [],
      "metadata": {
        "id": "tCXanYKKc3Dh"
      },
      "execution_count": null,
      "outputs": []
    }
  ],
  "metadata": {
    "kernelspec": {
      "display_name": "Python 3 (ipykernel)",
      "language": "python",
      "name": "python3"
    },
    "language_info": {
      "codemirror_mode": {
        "name": "ipython",
        "version": 3
      },
      "file_extension": ".py",
      "mimetype": "text/x-python",
      "name": "python",
      "nbconvert_exporter": "python",
      "pygments_lexer": "ipython3",
      "version": "3.9.7"
    },
    "colab": {
      "provenance": [],
      "include_colab_link": true
    }
  },
  "nbformat": 4,
  "nbformat_minor": 0
}