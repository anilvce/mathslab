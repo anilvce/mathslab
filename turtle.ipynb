{
 "cells": [
  {
   "cell_type": "code",
   "execution_count": 9,
   "metadata": {},
   "outputs": [
    {
     "name": "stdout",
     "output_type": "stream",
     "text": [
      "Requirement already satisfied: mobilechelonian in c:\\users\\student\\appdata\\local\\continuum\\anaconda3\\lib\\site-packages (0.5)\n",
      "Requirement already satisfied: IPython in c:\\users\\student\\appdata\\local\\continuum\\anaconda3\\lib\\site-packages (from mobilechelonian) (6.5.0)\n",
      "Requirement already satisfied: ipywidgets>=7.0.0 in c:\\users\\student\\appdata\\local\\continuum\\anaconda3\\lib\\site-packages (from mobilechelonian) (7.4.1)\n",
      "Requirement already satisfied: simplegeneric>0.8 in c:\\users\\student\\appdata\\local\\continuum\\anaconda3\\lib\\site-packages (from IPython->mobilechelonian) (0.8.1)\n",
      "Requirement already satisfied: colorama; sys_platform == \"win32\" in c:\\users\\student\\appdata\\local\\continuum\\anaconda3\\lib\\site-packages (from IPython->mobilechelonian) (0.3.9)\n",
      "Requirement already satisfied: traitlets>=4.2 in c:\\users\\student\\appdata\\local\\continuum\\anaconda3\\lib\\site-packages (from IPython->mobilechelonian) (4.3.2)\n",
      "Requirement already satisfied: decorator in c:\\users\\student\\appdata\\local\\continuum\\anaconda3\\lib\\site-packages (from IPython->mobilechelonian) (4.3.0)\n",
      "Requirement already satisfied: pygments in c:\\users\\student\\appdata\\local\\continuum\\anaconda3\\lib\\site-packages (from IPython->mobilechelonian) (2.2.0)\n",
      "Requirement already satisfied: pickleshare in c:\\users\\student\\appdata\\local\\continuum\\anaconda3\\lib\\site-packages (from IPython->mobilechelonian) (0.7.4)\n",
      "Requirement already satisfied: setuptools>=18.5 in c:\\users\\student\\appdata\\local\\continuum\\anaconda3\\lib\\site-packages (from IPython->mobilechelonian) (40.2.0)\n",
      "Requirement already satisfied: backcall in c:\\users\\student\\appdata\\local\\continuum\\anaconda3\\lib\\site-packages (from IPython->mobilechelonian) (0.1.0)\n",
      "Requirement already satisfied: jedi>=0.10 in c:\\users\\student\\appdata\\local\\continuum\\anaconda3\\lib\\site-packages (from IPython->mobilechelonian) (0.12.1)\n",
      "Requirement already satisfied: prompt-toolkit<2.0.0,>=1.0.15 in c:\\users\\student\\appdata\\local\\continuum\\anaconda3\\lib\\site-packages (from IPython->mobilechelonian) (1.0.15)\n",
      "Requirement already satisfied: widgetsnbextension~=3.4.0 in c:\\users\\student\\appdata\\local\\continuum\\anaconda3\\lib\\site-packages (from ipywidgets>=7.0.0->mobilechelonian) (3.4.1)\n",
      "Requirement already satisfied: ipykernel>=4.5.1 in c:\\users\\student\\appdata\\local\\continuum\\anaconda3\\lib\\site-packages (from ipywidgets>=7.0.0->mobilechelonian) (4.10.0)\n",
      "Requirement already satisfied: nbformat>=4.2.0 in c:\\users\\student\\appdata\\local\\continuum\\anaconda3\\lib\\site-packages (from ipywidgets>=7.0.0->mobilechelonian) (4.4.0)\n",
      "Requirement already satisfied: ipython-genutils in c:\\users\\student\\appdata\\local\\continuum\\anaconda3\\lib\\site-packages (from traitlets>=4.2->IPython->mobilechelonian) (0.2.0)\n",
      "Requirement already satisfied: six in c:\\users\\student\\appdata\\local\\continuum\\anaconda3\\lib\\site-packages (from traitlets>=4.2->IPython->mobilechelonian) (1.11.0)\n",
      "Requirement already satisfied: parso>=0.3.0 in c:\\users\\student\\appdata\\local\\continuum\\anaconda3\\lib\\site-packages (from jedi>=0.10->IPython->mobilechelonian) (0.3.1)\n",
      "Requirement already satisfied: wcwidth in c:\\users\\student\\appdata\\local\\continuum\\anaconda3\\lib\\site-packages (from prompt-toolkit<2.0.0,>=1.0.15->IPython->mobilechelonian) (0.1.7)\n",
      "Requirement already satisfied: notebook>=4.4.1 in c:\\users\\student\\appdata\\local\\continuum\\anaconda3\\lib\\site-packages (from widgetsnbextension~=3.4.0->ipywidgets>=7.0.0->mobilechelonian) (5.6.0)\n",
      "Requirement already satisfied: jupyter_client in c:\\users\\student\\appdata\\local\\continuum\\anaconda3\\lib\\site-packages (from ipykernel>=4.5.1->ipywidgets>=7.0.0->mobilechelonian) (5.2.3)\n",
      "Requirement already satisfied: tornado>=4.0 in c:\\users\\student\\appdata\\local\\continuum\\anaconda3\\lib\\site-packages (from ipykernel>=4.5.1->ipywidgets>=7.0.0->mobilechelonian) (5.1)\n",
      "Requirement already satisfied: jupyter-core in c:\\users\\student\\appdata\\local\\continuum\\anaconda3\\lib\\site-packages (from nbformat>=4.2.0->ipywidgets>=7.0.0->mobilechelonian) (4.4.0)\n",
      "Requirement already satisfied: jsonschema!=2.5.0,>=2.4 in c:\\users\\student\\appdata\\local\\continuum\\anaconda3\\lib\\site-packages (from nbformat>=4.2.0->ipywidgets>=7.0.0->mobilechelonian) (2.6.0)\n",
      "Requirement already satisfied: nbconvert in c:\\users\\student\\appdata\\local\\continuum\\anaconda3\\lib\\site-packages (from notebook>=4.4.1->widgetsnbextension~=3.4.0->ipywidgets>=7.0.0->mobilechelonian) (5.4.0)\n",
      "Requirement already satisfied: pyzmq>=17 in c:\\users\\student\\appdata\\local\\continuum\\anaconda3\\lib\\site-packages (from notebook>=4.4.1->widgetsnbextension~=3.4.0->ipywidgets>=7.0.0->mobilechelonian) (17.1.2)\n",
      "Requirement already satisfied: terminado>=0.8.1 in c:\\users\\student\\appdata\\local\\continuum\\anaconda3\\lib\\site-packages (from notebook>=4.4.1->widgetsnbextension~=3.4.0->ipywidgets>=7.0.0->mobilechelonian) (0.8.1)\n",
      "Requirement already satisfied: jinja2 in c:\\users\\student\\appdata\\local\\continuum\\anaconda3\\lib\\site-packages (from notebook>=4.4.1->widgetsnbextension~=3.4.0->ipywidgets>=7.0.0->mobilechelonian) (2.10)\n",
      "Requirement already satisfied: prometheus-client in c:\\users\\student\\appdata\\local\\continuum\\anaconda3\\lib\\site-packages (from notebook>=4.4.1->widgetsnbextension~=3.4.0->ipywidgets>=7.0.0->mobilechelonian) (0.3.1)\n",
      "Requirement already satisfied: Send2Trash in c:\\users\\student\\appdata\\local\\continuum\\anaconda3\\lib\\site-packages (from notebook>=4.4.1->widgetsnbextension~=3.4.0->ipywidgets>=7.0.0->mobilechelonian) (1.5.0)\n",
      "Requirement already satisfied: python-dateutil>=2.1 in c:\\users\\student\\appdata\\local\\continuum\\anaconda3\\lib\\site-packages (from jupyter_client->ipykernel>=4.5.1->ipywidgets>=7.0.0->mobilechelonian) (2.7.3)\n",
      "Requirement already satisfied: mistune>=0.8.1 in c:\\users\\student\\appdata\\local\\continuum\\anaconda3\\lib\\site-packages (from nbconvert->notebook>=4.4.1->widgetsnbextension~=3.4.0->ipywidgets>=7.0.0->mobilechelonian) (0.8.3)\n",
      "Requirement already satisfied: entrypoints>=0.2.2 in c:\\users\\student\\appdata\\local\\continuum\\anaconda3\\lib\\site-packages (from nbconvert->notebook>=4.4.1->widgetsnbextension~=3.4.0->ipywidgets>=7.0.0->mobilechelonian) (0.2.3)\n",
      "Requirement already satisfied: bleach in c:\\users\\student\\appdata\\local\\continuum\\anaconda3\\lib\\site-packages (from nbconvert->notebook>=4.4.1->widgetsnbextension~=3.4.0->ipywidgets>=7.0.0->mobilechelonian) (2.1.4)\n",
      "Requirement already satisfied: pandocfilters>=1.4.1 in c:\\users\\student\\appdata\\local\\continuum\\anaconda3\\lib\\site-packages (from nbconvert->notebook>=4.4.1->widgetsnbextension~=3.4.0->ipywidgets>=7.0.0->mobilechelonian) (1.4.2)\n",
      "Requirement already satisfied: testpath in c:\\users\\student\\appdata\\local\\continuum\\anaconda3\\lib\\site-packages (from nbconvert->notebook>=4.4.1->widgetsnbextension~=3.4.0->ipywidgets>=7.0.0->mobilechelonian) (0.3.1)\n",
      "Requirement already satisfied: defusedxml in c:\\users\\student\\appdata\\local\\continuum\\anaconda3\\lib\\site-packages (from nbconvert->notebook>=4.4.1->widgetsnbextension~=3.4.0->ipywidgets>=7.0.0->mobilechelonian) (0.5.0)\n",
      "Requirement already satisfied: MarkupSafe>=0.23 in c:\\users\\student\\appdata\\local\\continuum\\anaconda3\\lib\\site-packages (from jinja2->notebook>=4.4.1->widgetsnbextension~=3.4.0->ipywidgets>=7.0.0->mobilechelonian) (1.0)\n",
      "Requirement already satisfied: html5lib!=1.0b1,!=1.0b2,!=1.0b3,!=1.0b4,!=1.0b5,!=1.0b6,!=1.0b7,!=1.0b8,>=0.99999999pre in c:\\users\\student\\appdata\\local\\continuum\\anaconda3\\lib\\site-packages (from bleach->nbconvert->notebook>=4.4.1->widgetsnbextension~=3.4.0->ipywidgets>=7.0.0->mobilechelonian) (1.0.1)\n",
      "Requirement already satisfied: webencodings in c:\\users\\student\\appdata\\local\\continuum\\anaconda3\\lib\\site-packages (from html5lib!=1.0b1,!=1.0b2,!=1.0b3,!=1.0b4,!=1.0b5,!=1.0b6,!=1.0b7,!=1.0b8,>=0.99999999pre->bleach->nbconvert->notebook>=4.4.1->widgetsnbextension~=3.4.0->ipywidgets>=7.0.0->mobilechelonian) (0.5.1)\n"
     ]
    },
    {
     "name": "stderr",
     "output_type": "stream",
     "text": [
      "twisted 18.7.0 requires PyHamcrest>=1.9.0, which is not installed.\n",
      "You are using pip version 10.0.1, however version 22.1.2 is available.\n",
      "You should consider upgrading via the 'python -m pip install --upgrade pip' command.\n"
     ]
    }
   ],
   "source": [
    "!pip install mobilechelonian\n",
    "from mobilechelonian import Turtle\n"
   ]
  },
  {
   "cell_type": "code",
   "execution_count": 13,
   "metadata": {},
   "outputs": [
    {
     "data": {
      "application/vnd.jupyter.widget-view+json": {
       "model_id": "79d98fbf29404928b8157750eae21db1",
       "version_major": 2,
       "version_minor": 0
      },
      "text/plain": [
       "Turtle()"
      ]
     },
     "metadata": {},
     "output_type": "display_data"
    }
   ],
   "source": [
    "my_pen = Turtle()      \n",
    "my_pen.forward(50)           \n",
    "my_pen.right(90)\n",
    "my_pen.forward(50)           \n",
    "my_pen.right(90)\n",
    "my_pen.forward(50)           \n",
    "my_pen.right(90)\n",
    "my_pen.forward(50)           \n",
    "my_pen.right(90)\n",
    "my_pen.penup()\n",
    "my_pen.backward(50)\n",
    "my_pen.pendown()\n",
    "my_pen.forward(50)           \n",
    "my_pen.right(90)\n",
    "\n"
   ]
  },
  {
   "cell_type": "code",
   "execution_count": null,
   "metadata": {},
   "outputs": [],
   "source": []
  },
  {
   "cell_type": "code",
   "execution_count": null,
   "metadata": {},
   "outputs": [],
   "source": []
  }
 ],
 "metadata": {
  "kernelspec": {
   "display_name": "Python 3",
   "language": "python",
   "name": "python3"
  },
  "language_info": {
   "codemirror_mode": {
    "name": "ipython",
    "version": 3
   },
   "file_extension": ".py",
   "mimetype": "text/x-python",
   "name": "python",
   "nbconvert_exporter": "python",
   "pygments_lexer": "ipython3",
   "version": "3.7.0"
  }
 },
 "nbformat": 4,
 "nbformat_minor": 2
}
