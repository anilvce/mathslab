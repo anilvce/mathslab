{
  "cells": [
    {
      "cell_type": "markdown",
      "metadata": {
        "id": "view-in-github",
        "colab_type": "text"
      },
      "source": [
        "<a href=\"https://colab.research.google.com/github/anilvce/mathslab/blob/main/Exp_6_MatrixDecompositions.ipynb\" target=\"_parent\"><img src=\"https://colab.research.google.com/assets/colab-badge.svg\" alt=\"Open In Colab\"/></a>"
      ]
    },
    {
      "cell_type": "markdown",
      "metadata": {
        "id": "u9Oc5qF_1yyt"
      },
      "source": [
        "###### solve system of linear equations:\n",
        "x+2y = 5\n",
        "3x+4y = 7\n",
        "Ax = b\n",
        "\n",
        "x = Ainv.dot(b)"
      ]
    },
    {
      "cell_type": "markdown",
      "metadata": {
        "id": "j4Bbck641yy_"
      },
      "source": [
        "###### SVD: Singular value Decomposition(or factorization) of a Matrix"
      ]
    },
    {
      "cell_type": "code",
      "execution_count": null,
      "metadata": {
        "id": "tDy4xh5M1yzG",
        "outputId": "8ba75eba-f979-40e5-a3d2-8e96f05739e1",
        "colab": {
          "base_uri": "https://localhost:8080/"
        }
      },
      "outputs": [
        {
          "output_type": "stream",
          "name": "stdout",
          "text": [
            "[[57 22 45 11]\n",
            " [26 84 47  0]\n",
            " [27 44 25 32]\n",
            " [10 51 63  4]]\n",
            "[140.96680271+0.j         -33.76180003+0.j\n",
            "  31.39749866+6.12798716j  31.39749866-6.12798716j]\n",
            "[[ 0.46444385+0.j          0.17492047+0.j         -0.77072148+0.j\n",
            "  -0.77072148-0.j        ]\n",
            " [ 0.59335982+0.j          0.21447308+0.j          0.15219943+0.13410252j\n",
            "   0.15219943-0.13410252j]\n",
            " [ 0.4622611 +0.j         -0.63414188+0.j          0.23852999-0.13024366j\n",
            "   0.23852999+0.13024366j]\n",
            " [ 0.46747268+0.j          0.72198906+0.j          0.513651  -0.16475112j\n",
            "   0.513651  +0.16475112j]]\n"
          ]
        }
      ],
      "source": [
        "import numpy as np\n",
        "from scipy import linalg\n",
        "\n",
        "m = 4\n",
        "n = 4\n",
        "\n",
        "A = np.random.randint(100, size=(m,n))\n",
        "print(A)\n",
        "lam, V = linalg.eig(A)\n",
        "print(lam)\n",
        "print(V)"
      ]
    },
    {
      "cell_type": "code",
      "execution_count": null,
      "metadata": {
        "id": "sCxos0r31yzN",
        "outputId": "c0edeb30-4ce7-4ab5-a80a-0bde6e19da6d",
        "colab": {
          "base_uri": "https://localhost:8080/"
        }
      },
      "outputs": [
        {
          "output_type": "stream",
          "name": "stdout",
          "text": [
            "[[-0.89442719 -0.4472136 ]\n",
            " [-0.4472136   0.89442719]]\n",
            "[3.16227766 0.        ]\n",
            "[[-0.70710678 -0.70710678]\n",
            " [-0.70710678  0.70710678]]\n",
            "multi U (2, 2) [[ 1.00000000e+00 -2.43158597e-17]\n",
            " [-2.43158597e-17  1.00000000e+00]]\n",
            "s= (2,) [3.16227766 0.        ]\n",
            "multi V (2, 2) [[ 1.00000000e+00 -2.23711432e-17]\n",
            " [-2.23711432e-17  1.00000000e+00]]\n",
            "A= [3. 1.]\n"
          ]
        }
      ],
      "source": [
        "#help(linalg.svd)\n",
        "#genralization of EigenDecomposition - works for any matrix of m*n shape ;  A = UsV\n",
        "A=np.array([[2,2],[1,1]])\n",
        "U, s, V = linalg.svd(A)\n",
        "print(U)\n",
        "print(s)\n",
        "print(V)\n",
        "print(\"multi U\",U.shape, U.dot(U))\n",
        "print(\"s=\",s.shape,s)\n",
        "print(\"multi V\",V.shape, V.dot(V))\n",
        "print(\"A=\", U.dot(s).dot(V))"
      ]
    },
    {
      "cell_type": "code",
      "execution_count": null,
      "metadata": {
        "id": "5hIvkFWW1yzQ",
        "outputId": "40656ae2-c683-4210-8436-0fa522038694",
        "colab": {
          "base_uri": "https://localhost:8080/"
        }
      },
      "outputs": [
        {
          "output_type": "stream",
          "name": "stdout",
          "text": [
            "[[28 82 71 93]\n",
            " [80 39  4 92]\n",
            " [71 59 75 38]\n",
            " [86 55 98 86]]\n",
            "[[28. 82. 71. 93.]\n",
            " [80. 39.  4. 92.]\n",
            " [71. 59. 75. 38.]\n",
            " [86. 55. 98. 86.]]\n",
            "[[268.68442519   0.           0.           0.        ]\n",
            " [  0.          70.8340234    0.           0.        ]\n",
            " [  0.           0.          54.09113766   0.        ]\n",
            " [  0.           0.           0.          21.82589327]]\n",
            "[[0.00372184 0.         0.         0.        ]\n",
            " [0.         0.01411751 0.         0.        ]\n",
            " [0.         0.         0.01848732 0.        ]\n",
            " [0.         0.         0.         0.04581714]]\n"
          ]
        }
      ],
      "source": [
        "sigma = np.zeros((m, n))\n",
        "sigmainv = np.zeros((m, n))\n",
        "for i in range(min(m, n)):\n",
        "    sigma[i, i] = s[i]\n",
        "    sigmainv[i,i] = 1/s[i]\n",
        "    \n",
        "A1 = np.dot(U, np.dot(sigma, V))\n",
        "print(A)\n",
        "print(A1)\n",
        "print(sigma)\n",
        "print(sigmainv)"
      ]
    },
    {
      "cell_type": "code",
      "execution_count": null,
      "metadata": {
        "id": "Lxty7HhK1yzS",
        "outputId": "83b47909-cb90-40d7-8373-766ca48a39e1",
        "colab": {
          "base_uri": "https://localhost:8080/"
        }
      },
      "outputs": [
        {
          "output_type": "stream",
          "name": "stdout",
          "text": [
            "U(U.transpose)=\n",
            "[[1.00000000e+00 4.46556167e-16 5.86748493e-16 1.97698197e-16]\n",
            " [4.46556167e-16 1.00000000e+00 4.33526340e-16 1.47787471e-16]\n",
            " [5.86748493e-16 4.33526340e-16 1.00000000e+00 1.07838093e-16]\n",
            " [1.97698197e-16 1.47787471e-16 1.07838093e-16 1.00000000e+00]]\n",
            "V(V.transpose)=\n",
            "[[ 1.00000000e+00 -4.40693757e-17 -1.24488813e-16 -1.40144299e-16]\n",
            " [-4.40693757e-17  1.00000000e+00  4.96232664e-16 -4.32704398e-18]\n",
            " [-1.24488813e-16  4.96232664e-16  1.00000000e+00  8.55723150e-17]\n",
            " [-1.40144299e-16 -4.32704398e-18  8.55723150e-17  1.00000000e+00]]\n"
          ]
        }
      ],
      "source": [
        "# Verify U,V matrices are orthogonal\n",
        "#U(U.transpose) = I; V(V.transpose) = I - means U, V orthogonal represents rotation & reflection\n",
        "print(\"U(U.transpose)=\\n{}\".format(U.dot(U.transpose())))\n",
        "print(\"V(V.transpose)=\\n{}\".format(V.dot(V.transpose())))"
      ]
    },
    {
      "cell_type": "code",
      "execution_count": null,
      "metadata": {
        "id": "CTpVWVOq1yzU",
        "outputId": "de46ab6a-252b-4d8d-dc59-0382179713c7",
        "colab": {
          "base_uri": "https://localhost:8080/"
        }
      },
      "outputs": [
        {
          "output_type": "stream",
          "name": "stdout",
          "text": [
            "[[-0.5128713  -0.41361687 -0.44275104 -0.60815757]\n",
            " [ 0.19981509 -0.89614636  0.34962047  0.18644347]\n",
            " [ 0.82733753 -0.06015567 -0.45242466 -0.32742301]\n",
            " [-0.11202487 -0.14907744 -0.69068732  0.69869691]]\n",
            "[[-0.5128713  -0.41361687 -0.44275104 -0.60815757]\n",
            " [ 0.19981509 -0.89614636  0.34962047  0.18644347]\n",
            " [ 0.82733753 -0.06015567 -0.45242466 -0.32742301]\n",
            " [-0.11202487 -0.14907744 -0.69068732  0.69869691]]\n"
          ]
        }
      ],
      "source": [
        "#inv is easy for orthogonals U-inv = U.transpose\n",
        "Uinv_ortho = U.transpose()\n",
        "Uinv = linalg.pinv(U)\n",
        "print(Uinv_ortho)\n",
        "print(Uinv)"
      ]
    },
    {
      "cell_type": "code",
      "execution_count": null,
      "metadata": {
        "id": "-o1a_SE-1yzV",
        "outputId": "7752fed4-dcc4-4da4-fdec-b6eec9e51da4",
        "colab": {
          "base_uri": "https://localhost:8080/"
        }
      },
      "outputs": [
        {
          "output_type": "stream",
          "name": "stdout",
          "text": [
            "[[-0.01098503  0.0073777   0.01134864 -0.00102777]\n",
            " [ 0.01128064  0.00346817  0.02348059 -0.02628411]\n",
            " [-0.00091193 -0.01147722 -0.00596975  0.01590191]\n",
            " [ 0.00480984  0.00348299 -0.01956256  0.01134451]]\n",
            "[[-0.01098503  0.0073777   0.01134864 -0.00102777]\n",
            " [ 0.01128064  0.00346817  0.02348059 -0.02628411]\n",
            " [-0.00091193 -0.01147722 -0.00596975  0.01590191]\n",
            " [ 0.00480984  0.00348299 -0.01956256  0.01134451]]\n",
            "[[ 1.00000000e+00  7.35522754e-16  5.68989300e-16 -8.70831185e-16]\n",
            " [ 2.08166817e-16  1.00000000e+00  1.05471187e-15 -4.57966998e-16]\n",
            " [ 3.26128013e-16  6.38378239e-16  1.00000000e+00  1.31838984e-16]\n",
            " [ 7.42461648e-16  1.94289029e-16  1.94289029e-16  1.00000000e+00]]\n",
            "[[ 1.00000000e+00  3.87277016e-16  1.11369247e-15 -6.48786580e-16]\n",
            " [-7.97972799e-17  1.00000000e+00  1.15185639e-15 -4.57966998e-16]\n",
            " [-5.20417043e-18  1.83013327e-16  1.00000000e+00  1.31838984e-16]\n",
            " [ 2.02962647e-16 -1.56992475e-16  4.85722573e-17  1.00000000e+00]]\n"
          ]
        }
      ],
      "source": [
        "#A = UsV; A.inv = (V.T)(s.inv)(U.T)\n",
        "Ainv_svd =  ((V.transpose()).dot(sigmainv)).dot(U.transpose())\n",
        "\n",
        "Ainv = linalg.pinv(A)\n",
        "print(Ainv)\n",
        "print(Ainv_svd)\n",
        "\n",
        "print(A.dot(Ainv))\n",
        "print(A.dot(Ainv_svd))"
      ]
    },
    {
      "cell_type": "code",
      "execution_count": null,
      "metadata": {
        "id": "aUNNu6Qa1yzX",
        "outputId": "2df57880-c459-499a-b2da-0a1114f2bf37",
        "colab": {
          "base_uri": "https://localhost:8080/"
        }
      },
      "outputs": [
        {
          "output_type": "stream",
          "name": "stdout",
          "text": [
            "[-3.  4.]\n",
            "[5. 7.]\n"
          ]
        }
      ],
      "source": [
        "#x+2y = 5 3x+4y = 7 Ax = b\n",
        "#x = Ainv.dot(b)\n",
        "A= np.array([[1,2], [3,4]])\n",
        "b= np.array([5,7])\n",
        "x= linalg.inv(A).dot(b)\n",
        "print(x)\n",
        "print(A.dot(x))"
      ]
    },
    {
      "cell_type": "code",
      "execution_count": null,
      "metadata": {
        "id": "a1ipjXgg1yzb",
        "outputId": "117af5ba-fca2-4110-85b4-c528b82a68a3",
        "colab": {
          "base_uri": "https://localhost:8080/"
        }
      },
      "outputs": [
        {
          "output_type": "stream",
          "name": "stdout",
          "text": [
            "[-3.  4.]\n",
            "[5. 7.]\n"
          ]
        }
      ],
      "source": [
        "x= linalg.pinv(A).dot(b)\n",
        "print(x)\n",
        "print(A.dot(x))"
      ]
    },
    {
      "cell_type": "code",
      "execution_count": null,
      "metadata": {
        "id": "9n9nD5ph1yzd",
        "outputId": "09aed235-01b9-4783-a72b-6b3f025e8ec3",
        "colab": {
          "base_uri": "https://localhost:8080/"
        }
      },
      "outputs": [
        {
          "output_type": "stream",
          "name": "stdout",
          "text": [
            "[-0.51724138  2.16091954]\n",
            "[ 3.8045977   7.09195402 21.18390805]\n"
          ]
        }
      ],
      "source": [
        "#x+2y = 5 3x+4y = 7  5x+11y=21  Ax = b\n",
        "A= np.array([[1,2], [3,4], [5,11]])\n",
        "b= np.array([5,7,21])\n",
        "x= linalg.pinv(A).dot(b)\n",
        "print(x)\n",
        "print(A.dot(x))"
      ]
    },
    {
      "cell_type": "markdown",
      "metadata": {
        "id": "IMHbwr9R1yze"
      },
      "source": [
        "###### QR Decompostion"
      ]
    },
    {
      "cell_type": "code",
      "execution_count": null,
      "metadata": {
        "id": "NqbGuU4k1yzf",
        "outputId": "60d25437-4c26-478c-f2de-937531cbca09"
      },
      "outputs": [
        {
          "name": "stdout",
          "output_type": "stream",
          "text": [
            "[[-0.68549465  0.31183315  0.30691354  0.58194609]\n",
            " [-0.69588093 -0.02347815 -0.26733946 -0.6661292 ]\n",
            " [-0.16618052 -0.57167744 -0.65977848  0.45854259]\n",
            " [-0.13502167 -0.75854714  0.63168509 -0.0857282 ]]\n",
            "[[-96.28083922 -78.94613364 -75.69522721]\n",
            " [  0.         -45.27149194 -65.65178988]\n",
            " [  0.           0.         -66.52123768]\n",
            " [  0.           0.           0.        ]]\n"
          ]
        }
      ],
      "source": [
        "#help(linalg.qr)\n",
        "#QR Decomposition - works for any matrix of m*n shape A = QR\n",
        "# https://atozmath.com/example/MatrixEv.aspx?he=e&q=qrdecompgs\n",
        "A = np.random.randint(100, size=(4,3))\n",
        "Q, R = linalg.qr(A)\n",
        "print(Q)\n",
        "print(R)"
      ]
    },
    {
      "cell_type": "markdown",
      "metadata": {
        "id": "e40_UiL31yzg"
      },
      "source": [
        "###### LU Decompostion"
      ]
    },
    {
      "cell_type": "code",
      "execution_count": null,
      "metadata": {
        "id": "5iHAuUCQ1yzh",
        "outputId": "1e650f04-b2c7-4d0e-8f25-19ffcdec022f",
        "colab": {
          "base_uri": "https://localhost:8080/"
        }
      },
      "outputs": [
        {
          "output_type": "stream",
          "name": "stdout",
          "text": [
            "[[ 1.          0.          0.          0.        ]\n",
            " [ 0.45614035  1.          0.          0.        ]\n",
            " [ 0.1754386   0.63733397  1.          0.        ]\n",
            " [ 0.47368421  0.45398482 -0.21799254  1.        ]]\n",
            "[[57.         22.         45.         11.        ]\n",
            " [ 0.         73.96491228 26.47368421 -5.01754386]\n",
            " [ 0.          0.         38.23268501  5.26802657]\n",
            " [ 0.          0.          0.         30.21575294]]\n",
            "[[1. 0. 0. 0.]\n",
            " [0. 1. 0. 0.]\n",
            " [0. 0. 0. 1.]\n",
            " [0. 0. 1. 0.]]\n"
          ]
        }
      ],
      "source": [
        "#help(linalg.lu)\n",
        "#QR Decomposition - works for any matrix of m*n shape A = LU\n",
        "P, L, U = linalg.lu(A)\n",
        "print(L)\n",
        "print(U)\n",
        "print(P)"
      ]
    },
    {
      "cell_type": "code",
      "source": [
        "A=np.array([[3,2,4],[2,0,2], [4,2,3]])\n",
        "p,l,u=linalg.lu(A)\n",
        "print(p,\"\\n\",l,\"\\n\",u)"
      ],
      "metadata": {
        "colab": {
          "base_uri": "https://localhost:8080/"
        },
        "id": "nneD6BOhwk6o",
        "outputId": "de6c34be-37a2-442e-8640-c08026eccae0"
      },
      "execution_count": null,
      "outputs": [
        {
          "output_type": "stream",
          "name": "stdout",
          "text": [
            "[[0. 0. 1.]\n",
            " [0. 1. 0.]\n",
            " [1. 0. 0.]] \n",
            " [[ 1.    0.    0.  ]\n",
            " [ 0.5   1.    0.  ]\n",
            " [ 0.75 -0.5   1.  ]] \n",
            " [[ 4.   2.   3. ]\n",
            " [ 0.  -1.   0.5]\n",
            " [ 0.   0.   2. ]]\n"
          ]
        }
      ]
    },
    {
      "cell_type": "code",
      "execution_count": null,
      "metadata": {
        "id": "wcyYyDEZ1yzi"
      },
      "outputs": [],
      "source": [
        "#Exercises\n",
        "#Compute singular values for any random (3,3) matrix\n",
        "#Compute SVD factorization for any random (4,3) matrix\n",
        "#compute inverse for any random matrix using SVD factorization and verify with pinv() methods.\n",
        "#Compute and compare singular values for any real symmetric matrx and verify the results - \n",
        "# For any random matrix A, Compute eigen vectors for A @ A.T,  A.T @ A and compare with U, V in SVD. \n",
        "#verify matrix is not invertible if any one of its singular value is zero.\n",
        "\n",
        "# Compute SVD for any Positive Definite Matrix - 1) symmetric, 2) all eigenvalues are positive, 3) all the subdeterminants are also positive\n",
        "#Read - https://towardsdatascience.com/understanding-singular-value-decomposition-and-its-application-in-data-science-388a54be95d#:~:text=In%20linear%20algebra%2C%20the%20Singular%20Value%20Decomposition%20%28SVD%29,also%20has%20some%20important%20applications%20in%20data%20science."
      ]
    },
    {
      "cell_type": "code",
      "source": [
        "import numpy as np\n",
        "from matplotlib import pyplot as plt\n",
        "mu=0\n",
        "sigma=1\n",
        "a=np.random.normal(mu, sigma, 10)\n",
        "#print(a)\n",
        "fig, ax = plt.subplots(figsize =(10, 7))\n",
        "bins=np.linspace(-5,5,30)\n",
        "#print(bins)\n",
        "ax.hist(a, bins )\n",
        "\n",
        " \n",
        "# Show plot\n",
        "plt.show()"
      ],
      "metadata": {
        "colab": {
          "base_uri": "https://localhost:8080/",
          "height": 428
        },
        "id": "IaFPtR9F12Jk",
        "outputId": "34775ac3-89e5-4f98-f0a0-41a654882b8f"
      },
      "execution_count": null,
      "outputs": [
        {
          "output_type": "display_data",
          "data": {
            "text/plain": [
              "<Figure size 720x504 with 1 Axes>"
            ],
            "image/png": "[encoded data removed]"
          },
          "metadata": {
            "needs_background": "light"
          }
        }
      ]
    },
    {
      "cell_type": "code",
      "source": [
        "import numpy as np\n",
        "from scipy import linalg\n",
        "\n",
        "m = 4\n",
        "n = 4\n",
        "\n",
        "A = np.random.standard_exponential(size=(m,n))\n",
        "A=np.array([[5,-10,-5],[2,14,2],[-4,-8,6]])\n",
        "\n",
        "print(A)\n",
        "lam, V = linalg.eig(A)\n",
        "print(\"lam=\",lam)\n",
        "print(\"V=\",V)\n",
        "print(V.shape)\n",
        "print(\"AxV=\",A.dot(V))\n",
        "print(\"lam.V=\",lam*V)\n"
      ],
      "metadata": {
        "colab": {
          "base_uri": "https://localhost:8080/"
        },
        "id": "dMojmFCCMmcy",
        "outputId": "96a1740b-9a6d-4db5-9acd-b40b53e92c22"
      },
      "execution_count": null,
      "outputs": [
        {
          "output_type": "stream",
          "name": "stdout",
          "text": [
            "[[  5 -10  -5]\n",
            " [  2  14   2]\n",
            " [ -4  -8   6]]\n",
            "lam= [ 5.+0.j 10.+0.j 10.+0.j]\n",
            "V= [[ 7.45355992e-01  7.44760246e-16 -5.22799043e-01]\n",
            " [-2.98142397e-01 -4.47213595e-01  5.75730417e-01]\n",
            " [ 5.96284794e-01  8.94427191e-01 -6.28661791e-01]]\n",
            "(3, 3)\n",
            "AxV= [[ 3.72677996e+00  5.66213743e-15 -5.22799043e+00]\n",
            " [-1.49071198e+00 -4.47213595e+00  5.75730417e+00]\n",
            " [ 2.98142397e+00  8.94427191e+00 -6.28661791e+00]]\n",
            "lam.V= [[ 3.72677996e+00+0.j  7.44760246e-15+0.j -5.22799043e+00+0.j]\n",
            " [-1.49071198e+00+0.j -4.47213595e+00+0.j  5.75730417e+00+0.j]\n",
            " [ 2.98142397e+00+0.j  8.94427191e+00+0.j -6.28661791e+00+0.j]]\n"
          ]
        }
      ]
    },
    {
      "cell_type": "code",
      "execution_count": null,
      "metadata": {
        "scrolled": true,
        "colab": {
          "base_uri": "https://localhost:8080/"
        },
        "id": "d1zZ2-Uz9CDU",
        "outputId": "e365e09f-3310-4c15-e947-8f1c24e7ecf8"
      },
      "outputs": [
        {
          "output_type": "stream",
          "name": "stdout",
          "text": [
            "[[ 0.20081142 -2.22703273]\n",
            " [-0.12410828 -3.60341465]]\n",
            "[[ 0.20081142-0.j -2.22703273+0.j]\n",
            " [-0.12410828+0.j -3.60341465+0.j]]\n"
          ]
        }
      ],
      "source": [
        "print(A.dot(V))\n",
        "print(lam * V )"
      ]
    },
    {
      "cell_type": "code",
      "source": [],
      "metadata": {
        "id": "hlE9EcsboPyh"
      },
      "execution_count": null,
      "outputs": []
    },
    {
      "cell_type": "code",
      "execution_count": null,
      "metadata": {
        "outputId": "af1c4f12-61fe-4de9-f12b-49e884709391",
        "colab": {
          "base_uri": "https://localhost:8080/"
        },
        "id": "C48Bhq9yoYeM"
      },
      "outputs": [
        {
          "output_type": "stream",
          "name": "stdout",
          "text": [
            "[[-0.70710678 -0.70710678]\n",
            " [-0.70710678  0.70710678]]\n",
            "[3.46410162 3.16227766]\n",
            "[[-4.08248290e-01 -8.16496581e-01 -4.08248290e-01]\n",
            " [-8.94427191e-01  4.47213595e-01  5.26260748e-16]\n",
            " [-1.82574186e-01 -3.65148372e-01  9.12870929e-01]]\n",
            "multi U (2, 2) [[ 1.00000000e+00 -1.33393446e-16]\n",
            " [-1.56386917e-16  1.00000000e+00]]\n",
            "s= (2,) [3.46410162 3.16227766]\n",
            "multi V (3, 3) [[ 0.97149901  0.11725616 -0.20601133]\n",
            " [-0.03485163  0.93029674  0.36514837]\n",
            " [ 0.23446756 -0.34756145  0.90786893]]\n"
          ]
        }
      ],
      "source": [
        "import numpy as np\n",
        "from scipy import linalg\n",
        "\n",
        "A=np.array([[3,1,1],[-1,3, 1]])\n",
        "U, s, V = linalg.svd(A)\n",
        "print(U)\n",
        "print(s)\n",
        "print(V)\n",
        "print(\"multi U\",U.shape, U.dot(U))\n",
        "print(\"s=\",s.shape,s)\n",
        "print(\"multi V\",V.shape, V.dot(V))\n",
        "#print(\"A=\", U.dot(s).dot(V))"
      ]
    }
  ],
  "metadata": {
    "kernelspec": {
      "display_name": "Python 3 (ipykernel)",
      "language": "python",
      "name": "python3"
    },
    "language_info": {
      "codemirror_mode": {
        "name": "ipython",
        "version": 3
      },
      "file_extension": ".py",
      "mimetype": "text/x-python",
      "name": "python",
      "nbconvert_exporter": "python",
      "pygments_lexer": "ipython3",
      "version": "3.9.7"
    },
    "colab": {
      "provenance": [],
      "include_colab_link": true
    }
  },
  "nbformat": 4,
  "nbformat_minor": 0
}