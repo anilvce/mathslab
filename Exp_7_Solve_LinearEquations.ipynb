{
  "cells": [
    {
      "cell_type": "markdown",
      "metadata": {
        "id": "view-in-github",
        "colab_type": "text"
      },
      "source": [
        "<a href=\"https://colab.research.google.com/github/anilvce/mathslab/blob/main/Exp_7_Solve_LinearEquations.ipynb\" target=\"_parent\"><img src=\"https://colab.research.google.com/assets/colab-badge.svg\" alt=\"Open In Colab\"/></a>"
      ]
    },
    {
      "cell_type": "markdown",
      "metadata": {
        "id": "9UIdiRRqCJgK"
      },
      "source": [
        "###### solve system of linear equations:\n",
        "x+2y = 5 3x+4y = 7 Ax = b\n",
        "\n",
        "x = Ainv.dot(b)"
      ]
    },
    {
      "cell_type": "code",
      "execution_count": null,
      "metadata": {
        "id": "BKEqTyAkCJgO",
        "outputId": "7fdf6f8a-eef3-42ec-a7cd-acd88bd2de5b"
      },
      "outputs": [
        {
          "name": "stdout",
          "output_type": "stream",
          "text": [
            "[-3.  4.]\n",
            "[5. 7.]\n"
          ]
        }
      ],
      "source": [
        "#x+2y = 5 3x+4y = 7 Ax = b\n",
        "#x = Ainv.dot(b)\n",
        "import numpy as np\n",
        "from scipy import linalg\n",
        "\n",
        "A= np.array([[1,2], [3,4]])\n",
        "b= np.array([5,7])\n",
        "x= linalg.inv(A).dot(b)\n",
        "print(x)\n",
        "print(A.dot(x))"
      ]
    },
    {
      "cell_type": "code",
      "execution_count": null,
      "metadata": {
        "id": "udtC-MlICJgR",
        "outputId": "10ee0f03-4911-46bc-deec-7949d8f5b4f1"
      },
      "outputs": [
        {
          "data": {
            "text/plain": [
              "array([-3.,  4.])"
            ]
          },
          "execution_count": 5,
          "metadata": {},
          "output_type": "execute_result"
        }
      ],
      "source": [
        "linalg.solve(A, b)"
      ]
    },
    {
      "cell_type": "code",
      "execution_count": null,
      "metadata": {
        "id": "7RHcmxuOCJgT",
        "outputId": "835f857b-d27b-4a1f-94fe-35e858aba4c4"
      },
      "outputs": [
        {
          "name": "stdout",
          "output_type": "stream",
          "text": [
            "A=\n",
            "[[92 82]\n",
            " [ 1 89]\n",
            " [47 20]\n",
            " [93 88]]\n",
            "b=\n",
            "[[93]\n",
            " [23]\n",
            " [37]\n",
            " [79]]\n"
          ]
        }
      ],
      "source": [
        "m = 4; n=2\n",
        "A = np.random.randint(100, size=(m,n))\n",
        "b = np.random.randint(100, size=(m,1))\n",
        "print(\"A=\\n{}\".format(A))\n",
        "print(\"b=\\n{}\".format(b))"
      ]
    },
    {
      "cell_type": "code",
      "execution_count": null,
      "metadata": {
        "id": "5xOWVxiCCJgV",
        "outputId": "a0574e9d-76f1-46d9-ac84-92110121dee8"
      },
      "outputs": [
        {
          "name": "stdout",
          "output_type": "stream",
          "text": [
            "[[0.69933579]\n",
            " [0.24776121]]\n",
            "[[-8.34468841]\n",
            " [-0.24991642]\n",
            " [ 0.82400614]\n",
            " [ 7.84121464]]\n"
          ]
        }
      ],
      "source": [
        "#linalg.solve(A, b) - does not work\n",
        "Ainv = linalg.pinv(A)\n",
        "x = Ainv.dot(b)\n",
        "print(x)\n",
        "print(A.dot(x) - b)"
      ]
    },
    {
      "cell_type": "code",
      "execution_count": null,
      "metadata": {
        "id": "2Awh43iwCJgW",
        "outputId": "6c7c29b7-2c23-4956-efac-d7b5f6890a39"
      },
      "outputs": [
        {
          "name": "stdout",
          "output_type": "stream",
          "text": [
            "[[0.69933579]\n",
            " [0.24776121]]\n",
            "[[-8.34468841]\n",
            " [-0.24991642]\n",
            " [ 0.82400614]\n",
            " [ 7.84121464]]\n"
          ]
        }
      ],
      "source": [
        "#Minimizing |Ax-b|\n",
        "x, res, rnk, s = linalg.lstsq(A, b)\n",
        "print(x)\n",
        "print(A.dot(x) - b)"
      ]
    },
    {
      "cell_type": "code",
      "execution_count": null,
      "metadata": {
        "id": "jQcylByXCJgY"
      },
      "outputs": [],
      "source": []
    }
  ],
  "metadata": {
    "kernelspec": {
      "display_name": "Python 3 (ipykernel)",
      "language": "python",
      "name": "python3"
    },
    "language_info": {
      "codemirror_mode": {
        "name": "ipython",
        "version": 3
      },
      "file_extension": ".py",
      "mimetype": "text/x-python",
      "name": "python",
      "nbconvert_exporter": "python",
      "pygments_lexer": "ipython3",
      "version": "3.8.12"
    },
    "colab": {
      "provenance": [],
      "include_colab_link": true
    }
  },
  "nbformat": 4,
  "nbformat_minor": 0
}