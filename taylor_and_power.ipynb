{
  "cells": [
    {
      "cell_type": "markdown",
      "metadata": {
        "id": "view-in-github",
        "colab_type": "text"
      },
      "source": [
        "<a href=\"https://colab.research.google.com/github/anilvce/mathslab/blob/main/taylor_and_power.ipynb\" target=\"_parent\"><img src=\"https://colab.research.google.com/assets/colab-badge.svg\" alt=\"Open In Colab\"/></a>"
      ]
    },
    {
      "cell_type": "markdown",
      "metadata": {
        "id": "nqY6C9KFkptA"
      },
      "source": [
        "##series expansion exp no: 8"
      ]
    },
    {
      "cell_type": "markdown",
      "metadata": {
        "id": "Fci22keZ-Qo_"
      },
      "source": [
        " A Taylor series is a series expansion of a function about a point. A one-dimensional Taylor series is an expansion of a real function f(x) about a point x=a is given by\n",
        "f(x)=f(a)+f^'(a)(x-a)+(f^('')(a))/(2!)(x-a)^2+(f^((3))(a))/(3!)(x-a)^3+...+(f^((n))(a))/(n!)(x-a)^n+.... \t\n",
        "(1)\n",
        "https://mathworld.wolfram.com/TaylorSeries.html\n",
        "\n",
        "If a=0, the expansion is known as a Maclaurin series. \n",
        "https://www.mathsisfun.com/algebra/taylor-series.html"
      ]
    },
    {
      "cell_type": "code",
      "execution_count": null,
      "metadata": {
        "id": "g1qmF1hyKgm9"
      },
      "outputs": [],
      "source": [
        "from sympy.abc import n, x\n",
        "from sympy import expand, factor, series\n"
      ]
    },
    {
      "cell_type": "code",
      "execution_count": null,
      "metadata": {
        "colab": {
          "base_uri": "https://localhost:8080/"
        },
        "id": "IhEOAdHwKp2T",
        "outputId": "cbac6d85-826d-4ac0-99b9-1c39ed85156c"
      },
      "outputs": [
        {
          "name": "stdout",
          "output_type": "stream",
          "text": [
            "x**2\n",
            "4*x + (x - 2)**2 - 4\n"
          ]
        }
      ],
      "source": [
        "fx= x**2\n",
        "s1 = series(fx, x, 0, 10)\n",
        "print(s1)\n",
        "\n",
        "s1 = series(fx, x, 2, 10)\n",
        "print(s1)"
      ]
    },
    {
      "cell_type": "code",
      "execution_count": null,
      "metadata": {
        "colab": {
          "base_uri": "https://localhost:8080/"
        },
        "id": "VY-Msi6BMegZ",
        "outputId": "38015b6e-3c5d-4d9a-bb81-6f11dcde13c6"
      },
      "outputs": [
        {
          "name": "stdout",
          "output_type": "stream",
          "text": [
            "1 + x + x**2/2 + x**3/6 + x**4/24 + x**5/120 + x**6/720 + x**7/5040 + x**8/40320 + x**9/362880 + O(x**10)\n",
            "7.38871252204586\n"
          ]
        }
      ],
      "source": [
        "from sympy import *\n",
        "\n",
        "f = E**x\n",
        "s = series(f, x, 0, 10)\n",
        "print(s)\n",
        "\n",
        "ne = 1 + x + x**2/2 + x**3/6 + x**4/24 + x**5/120 + x**6/720+ x**7/5040 + x**8/40320 + x**9/362880\n",
        "print(ne.subs(x, 2).evalf())"
      ]
    },
    {
      "cell_type": "code",
      "execution_count": null,
      "metadata": {
        "colab": {
          "base_uri": "https://localhost:8080/",
          "height": 37
        },
        "id": "YK3hEnCoNKig",
        "outputId": "0803dfa8-1820-42aa-ab12-379f4f6a8638"
      },
      "outputs": [
        {
          "data": {
            "text/latex": "$\\displaystyle 0$",
            "text/plain": [
              "0"
            ]
          },
          "execution_count": 8,
          "metadata": {},
          "output_type": "execute_result"
        }
      ],
      "source": [
        "limit(x**n/factorial(n),n,oo)"
      ]
    },
    {
      "cell_type": "code",
      "execution_count": null,
      "metadata": {
        "colab": {
          "base_uri": "https://localhost:8080/"
        },
        "id": "-m9X7zWHOPlQ",
        "outputId": "9bdf06b8-4309-47b8-8076-65e109cb273a"
      },
      "outputs": [
        {
          "name": "stdout",
          "output_type": "stream",
          "text": [
            "Limit(1 + x + x**2/2 + x**3/6 + x**4/24 + x**5/120 + x**6/720 + x**7/5040 + x**8/40320 + x**9/362880 + O(x**10), x, 4)\n",
            "54.1541446208113\n",
            "54.5981500331442\n"
          ]
        }
      ],
      "source": [
        "l = Limit(s, x, 4)\n",
        "print(l)\n",
        "print(l.doit().evalf())\n",
        "print(f.subs(x, 4).evalf())"
      ]
    },
    {
      "cell_type": "code",
      "execution_count": null,
      "metadata": {
        "colab": {
          "base_uri": "https://localhost:8080/"
        },
        "id": "I1YxWh3RQPdP",
        "outputId": "dc900e29-6ae6-46d7-f97c-6d3141938f17"
      },
      "outputs": [
        {
          "name": "stdout",
          "output_type": "stream",
          "text": [
            "1 + x + x**2 + x**3 + x**4 + x**5 + x**6 + x**7 + x**8 + x**9 + O(x**10)\n",
            "x**(-n)*x**(n + 1)\n",
            "Limit(x**(-n)*x**(n + 1), n, oo, dir='-')\n",
            "x\n",
            "convergence test using nthratios:|x| < 1\n"
          ]
        }
      ],
      "source": [
        "fx = 1/(1-x)\n",
        "s1 = series(fx, x, 0, 10)\n",
        "print(s1)\n",
        "\n",
        "nplus1thterm = x**(n+1)\n",
        "nthterm = x**(n)\n",
        "ratiotest = nplus1thterm/nthterm\n",
        "print(ratiotest)\n",
        "l = Limit(ratiotest, n, oo)\n",
        "print(l)\n",
        "print(l.doit().evalf())\n",
        "print(\"convergence test using nthratios:|{}| < 1\".format(ratiotest.simplify()))"
      ]
    },
    {
      "cell_type": "markdown",
      "metadata": {
        "id": "7iLasdX6QRZc"
      },
      "source": [
        "https://tutorial.math.lamar.edu/problems/calcii/convergenceofseries.aspx\n"
      ]
    },
    {
      "cell_type": "markdown",
      "metadata": {
        "id": "UtRcpAnFdz1k"
      },
      "source": [
        "https://www.dummies.com/article/academics-the-arts/math/calculus/determining-whether-a-taylor-series-is-convergent-or-divergent-178073/"
      ]
    },
    {
      "cell_type": "markdown",
      "metadata": {
        "id": "bljgofHNk0QZ"
      },
      "source": [
        "## Differential equations exp 11"
      ]
    },
    {
      "cell_type": "code",
      "execution_count": null,
      "metadata": {
        "id": "65BZXaDqkyqp"
      },
      "outputs": [],
      "source": [
        "from sympy import *\n",
        "x, y, z, t = symbols('x y z t')\n",
        "f, g = symbols('f g', cls=Function)"
      ]
    },
    {
      "cell_type": "code",
      "execution_count": null,
      "metadata": {
        "colab": {
          "base_uri": "https://localhost:8080/",
          "height": 69
        },
        "id": "gwFIqqOelCkx",
        "outputId": "cf31aef6-8bf8-41a3-e52f-035c78ed9c1d"
      },
      "outputs": [
        {
          "name": "stdout",
          "output_type": "stream",
          "text": [
            "f(x)\n"
          ]
        },
        {
          "data": {
            "text/latex": "$\\displaystyle \\frac{d}{d x} f{\\left(x \\right)}$",
            "text/plain": [
              "Derivative(f(x), x)"
            ]
          },
          "execution_count": 15,
          "metadata": {},
          "output_type": "execute_result"
        }
      ],
      "source": [
        "print(f(x))\n",
        "f(x).diff(x)"
      ]
    },
    {
      "cell_type": "code",
      "execution_count": null,
      "metadata": {
        "colab": {
          "base_uri": "https://localhost:8080/",
          "height": 54
        },
        "id": "LiJwlF0hlL7P",
        "outputId": "2750bbfc-f7f4-4b62-86dd-0d6e4bbdd8a3"
      },
      "outputs": [
        {
          "data": {
            "text/latex": "$\\displaystyle f{\\left(x \\right)} - 2 \\frac{d}{d x} f{\\left(x \\right)} + \\frac{d^{2}}{d x^{2}} f{\\left(x \\right)} = x$",
            "text/plain": [
              "Eq(f(x) - 2*Derivative(f(x), x) + Derivative(f(x), (x, 2)), x)"
            ]
          },
          "execution_count": 19,
          "metadata": {},
          "output_type": "execute_result"
        }
      ],
      "source": [
        "diffeq=Eq(    f(x).diff(x,x)  \n",
        " -2*f(x).diff(x)  +  f(x) ,  x)\n",
        "diffeq"
      ]
    },
    {
      "cell_type": "code",
      "execution_count": null,
      "metadata": {
        "colab": {
          "base_uri": "https://localhost:8080/",
          "height": 38
        },
        "id": "8_9I9XAImJsG",
        "outputId": "4a3eb822-3f84-408a-8423-1d84a236523b"
      },
      "outputs": [
        {
          "data": {
            "text/latex": "$\\displaystyle f{\\left(x \\right)} = x + \\left(C_{1} + C_{2} x\\right) e^{x} + 2$",
            "text/plain": [
              "Eq(f(x), x + (C1 + C2*x)*exp(x) + 2)"
            ]
          },
          "execution_count": 20,
          "metadata": {},
          "output_type": "execute_result"
        }
      ],
      "source": [
        "dsolve(diffeq,f(x))"
      ]
    },
    {
      "cell_type": "code",
      "execution_count": null,
      "metadata": {
        "colab": {
          "base_uri": "https://localhost:8080/",
          "height": 54
        },
        "id": "ug5enMNrl_Bp",
        "outputId": "73b88a0a-dba5-438d-92d5-3b5e6578a364"
      },
      "outputs": [
        {
          "data": {
            "text/latex": "$\\displaystyle f{\\left(x \\right)} - 2 \\frac{d}{d x} f{\\left(x \\right)} + \\frac{d^{2}}{d x^{2}} f{\\left(x \\right)} = \\sin{\\left(x \\right)}$",
            "text/plain": [
              "Eq(f(x) - 2*Derivative(f(x), x) + Derivative(f(x), (x, 2)), sin(x))"
            ]
          },
          "execution_count": 21,
          "metadata": {},
          "output_type": "execute_result"
        }
      ],
      "source": [
        "diffeq = Eq(f(x).diff(x, x) - 2*f(x).diff(x) + f(x), sin(x))\n",
        "diffeq"
      ]
    },
    {
      "cell_type": "markdown",
      "metadata": {
        "id": "h3PBYiyKoGMI"
      },
      "source": [
        "##Exp 10: Application of definite integrals to area and volume"
      ]
    },
    {
      "cell_type": "code",
      "execution_count": null,
      "metadata": {
        "id": "MkML_uLzpd9F"
      },
      "outputs": [],
      "source": [
        "#https://www.youtube.com/watch?v=X-MVjALEAN4 \n",
        "#https://tutorial.math.lamar.edu/Problems/CalcI/AreaBetweenCurves.aspx"
      ]
    },
    {
      "cell_type": "code",
      "execution_count": null,
      "metadata": {
        "colab": {
          "background_save": true,
          "base_uri": "https://localhost:8080/",
          "height": 113
        },
        "id": "rEiwY0CBZnSE",
        "outputId": "2d59de77-7942-4e04-90a0-86d6334607a4"
      },
      "outputs": [
        {
          "name": "stdout",
          "output_type": "stream",
          "text": [
            "pi/4\n"
          ]
        },
        {
          "data": {
            "text/latex": "$\\displaystyle \\frac{\\pi}{4}$",
            "text/plain": [
              "pi/4"
            ]
          },
          "execution_count": 6,
          "metadata": {},
          "output_type": "execute_result"
        }
      ],
      "source": [
        "from sympy import *\n",
        "x=Symbol('x')\n",
        "print(integrate(sin(x)**2,(x,0,pi/2)))\n",
        "integrate(cos(x)**2,(x,0,pi/2))"
      ]
    }
  ],
  "metadata": {
    "colab": {
      "name": "taylor and power.ipynb",
      "provenance": [],
      "authorship_tag": "ABX9TyOG4Fwv2A6+M5OoMEftyomY",
      "include_colab_link": true
    },
    "kernelspec": {
      "display_name": "Python 3",
      "name": "python3"
    },
    "language_info": {
      "name": "python"
    }
  },
  "nbformat": 4,
  "nbformat_minor": 0
}